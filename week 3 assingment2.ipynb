{
 "cells": [
  {
   "cell_type": "code",
   "execution_count": 1,
   "id": "b4a6e079-8928-4c90-a75a-f244ee6e6eb2",
   "metadata": {},
   "outputs": [
    {
     "name": "stdout",
     "output_type": "stream",
     "text": [
      "[('Virat Kohli', 24936), ('Jack Kallis', 25534), ('Ricky Pointing', 27483), ('sachin tendulkar', 34357)]\n"
     ]
    }
   ],
   "source": [
    "#create a python program to sort the given list of tuples based on integer value using lambda function\n",
    "#[('sachin tendulkar',34357), ('Ricky Pointing',27483),('Jack Kallis',25534),('virat kohli', 24936)]\n",
    "list = [('sachin tendulkar',34357),('Ricky Pointing',27483),('Jack Kallis',25534),('Virat Kohli',24936)]\n",
    "list.sort(key=lambda x:x[1])\n",
    "print(list)"
   ]
  },
  {
   "cell_type": "code",
   "execution_count": 2,
   "id": "8ebf96a8-f7cb-4b34-a76b-b8327806fb8c",
   "metadata": {},
   "outputs": [
    {
     "name": "stdout",
     "output_type": "stream",
     "text": [
      "[1, 4, 9, 16, 25, 36, 49, 64, 81, 100]\n"
     ]
    }
   ],
   "source": [
    "#write a python program to find the squares of all numbers in the given list of integer using lambda and map function.\n",
    "#given string :[1,2,3,4,5,6,7,8,9,10]\n",
    "a = [1,2,3,4,5,6,7,8,9,10]\n",
    "n = lambda b : [i*i for i in b]\n",
    "print(n(a))"
   ]
  },
  {
   "cell_type": "code",
   "execution_count": 3,
   "id": "81895ded-43e2-4188-9d29-14bba28d5144",
   "metadata": {},
   "outputs": [
    {
     "name": "stdout",
     "output_type": "stream",
     "text": [
      "('1', '2', '3', '4', '5', '6', '7', '8', '9', '10')\n"
     ]
    }
   ],
   "source": [
    "# write a python program to convert the given list of integer into tuple of string.use map and lambda function.\n",
    "#given string:[1,2,3,4,5,6,7,8,9,10\n",
    "list = [1,2,3,4,5,6,7,8,9,10]\n",
    "output = tuple(map(lambda x: str(x), list))\n",
    "print(output)"
   ]
  },
  {
   "cell_type": "code",
   "execution_count": 4,
   "id": "cd65c3c3-5d41-4c04-afb8-5d265c43c085",
   "metadata": {},
   "outputs": [
    {
     "name": "stdout",
     "output_type": "stream",
     "text": [
      "620448401733239439360000\n"
     ]
    }
   ],
   "source": [
    "# write a python program using reduce function to compute the product of a list containing number from 1 to 25.\n",
    "from functools import reduce\n",
    "\n",
    "def product(x,y):\n",
    "    return x*y\n",
    "ans = reduce(product,range(1,25))\n",
    "print(ans)\n"
   ]
  },
  {
   "cell_type": "code",
   "execution_count": 6,
   "id": "795a4cad-ea84-4fba-9f74-1d8ae60711bf",
   "metadata": {},
   "outputs": [
    {
     "name": "stdout",
     "output_type": "stream",
     "text": [
      "[2, 3, 6, 9, 27, 60, 90, 120, 46]\n"
     ]
    }
   ],
   "source": [
    "# write a program to filter the number in a given list that are divisible by 2 and 3 using the filter function.\n",
    "# [2,3,6,9,27,60,90,120,55,46]\n",
    "list = [2,3,6,9,27,60,90,120,55,46]\n",
    "out = []\n",
    "for num in list:\n",
    "    if num % 2 == 0 or num % 3 == 0:\n",
    "        out.append(num)\n",
    "print(out)\n",
    "        "
   ]
  },
  {
   "cell_type": "code",
   "execution_count": 9,
   "id": "f21064ff-1f99-49c4-a9f8-fd5a04a00e22",
   "metadata": {},
   "outputs": [
    {
     "ename": "TypeError",
     "evalue": "'list' object is not callable",
     "output_type": "error",
     "traceback": [
      "\u001b[0;31m---------------------------------------------------------------------------\u001b[0m",
      "\u001b[0;31mTypeError\u001b[0m                                 Traceback (most recent call last)",
      "Cell \u001b[0;32mIn[9], line 4\u001b[0m\n\u001b[1;32m      1\u001b[0m \u001b[38;5;66;03m# write a python program to find palindromes in the given list of strings using lambda and filter function.\u001b[39;00m\n\u001b[1;32m      2\u001b[0m \u001b[38;5;66;03m#['python','php','aba','radar','level']\u001b[39;00m\n\u001b[1;32m      3\u001b[0m text \u001b[38;5;241m=\u001b[39m [\u001b[38;5;124m'\u001b[39m\u001b[38;5;124mpython\u001b[39m\u001b[38;5;124m'\u001b[39m,\u001b[38;5;124m'\u001b[39m\u001b[38;5;124mphp\u001b[39m\u001b[38;5;124m'\u001b[39m,\u001b[38;5;124m'\u001b[39m\u001b[38;5;124maba\u001b[39m\u001b[38;5;124m'\u001b[39m,\u001b[38;5;124m'\u001b[39m\u001b[38;5;124mradar\u001b[39m\u001b[38;5;124m'\u001b[39m,\u001b[38;5;124m'\u001b[39m\u001b[38;5;124mlevel\u001b[39m\u001b[38;5;124m'\u001b[39m]\n\u001b[0;32m----> 4\u001b[0m result \u001b[38;5;241m=\u001b[39m \u001b[38;5;28;43mlist\u001b[39;49m\u001b[43m(\u001b[49m\u001b[38;5;28;43mfilter\u001b[39;49m\u001b[43m(\u001b[49m\u001b[38;5;28;43;01mlambda\u001b[39;49;00m\u001b[43m \u001b[49m\u001b[43mx\u001b[49m\u001b[43m:\u001b[49m\u001b[43m \u001b[49m\u001b[43m(\u001b[49m\u001b[43mx\u001b[49m\u001b[43m \u001b[49m\u001b[38;5;241;43m==\u001b[39;49m\u001b[43m \u001b[49m\u001b[38;5;124;43m\"\u001b[39;49m\u001b[38;5;124;43m\"\u001b[39;49m\u001b[38;5;241;43m.\u001b[39;49m\u001b[43mjoin\u001b[49m\u001b[43m(\u001b[49m\u001b[38;5;28;43mreversed\u001b[39;49m\u001b[43m(\u001b[49m\u001b[43mx\u001b[49m\u001b[43m)\u001b[49m\u001b[43m)\u001b[49m\u001b[43m)\u001b[49m\u001b[43m,\u001b[49m\u001b[43m \u001b[49m\u001b[43mtext\u001b[49m\u001b[43m)\u001b[49m\u001b[43m)\u001b[49m\n\u001b[1;32m      5\u001b[0m \u001b[38;5;28mprint\u001b[39m(result)\n",
      "\u001b[0;31mTypeError\u001b[0m: 'list' object is not callable"
     ]
    }
   ],
   "source": [
    "# write a python program to find palindromes in the given list of strings using lambda and filter function.\n",
    "#['python','php','aba','radar','level']\n",
    "text = ['python','php','aba','radar','level']\n",
    "result = list(filter(lambda x: (x == \"\".join(reversed(x))), text))\n",
    "print(result)"
   ]
  },
  {
   "cell_type": "code",
   "execution_count": null,
   "id": "16ee3f5c-5d98-4542-b13c-7c840833344e",
   "metadata": {},
   "outputs": [],
   "source": []
  }
 ],
 "metadata": {
  "kernelspec": {
   "display_name": "Python 3 (ipykernel)",
   "language": "python",
   "name": "python3"
  },
  "language_info": {
   "codemirror_mode": {
    "name": "ipython",
    "version": 3
   },
   "file_extension": ".py",
   "mimetype": "text/x-python",
   "name": "python",
   "nbconvert_exporter": "python",
   "pygments_lexer": "ipython3",
   "version": "3.10.8"
  }
 },
 "nbformat": 4,
 "nbformat_minor": 5
}
