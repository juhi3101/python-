{
 "cells": [
  {
   "cell_type": "code",
   "execution_count": 1,
   "id": "a2a43e2e-c46f-4657-ac76-9acf87e5060d",
   "metadata": {},
   "outputs": [],
   "source": [
    "j = \"python\""
   ]
  },
  {
   "cell_type": "code",
   "execution_count": 4,
   "id": "652feee6-d374-4af0-b8e3-a1e2b5c48321",
   "metadata": {},
   "outputs": [
    {
     "data": {
      "text/plain": [
       "str"
      ]
     },
     "execution_count": 4,
     "metadata": {},
     "output_type": "execute_result"
    }
   ],
   "source": [
    "type(j)\n"
   ]
  },
  {
   "cell_type": "code",
   "execution_count": 5,
   "id": "824d84b4-1cfb-4e63-917d-32cc49a9081a",
   "metadata": {},
   "outputs": [],
   "source": [
    "l = [2,4,5,\"summer\",4.4,2+4j,True]"
   ]
  },
  {
   "cell_type": "code",
   "execution_count": 6,
   "id": "fc17aa32-329a-4fbb-a48d-bb03a6ff5339",
   "metadata": {},
   "outputs": [
    {
     "data": {
      "text/plain": [
       "list"
      ]
     },
     "execution_count": 6,
     "metadata": {},
     "output_type": "execute_result"
    }
   ],
   "source": [
    "type(l)"
   ]
  },
  {
   "cell_type": "code",
   "execution_count": 7,
   "id": "b5867c09-c9d1-425a-8e76-e842b39c713f",
   "metadata": {},
   "outputs": [],
   "source": [
    "a = 5.5"
   ]
  },
  {
   "cell_type": "code",
   "execution_count": 8,
   "id": "2efafdba-0ddf-4011-afa3-204d17d24c8b",
   "metadata": {},
   "outputs": [
    {
     "data": {
      "text/plain": [
       "float"
      ]
     },
     "execution_count": 8,
     "metadata": {},
     "output_type": "execute_result"
    }
   ],
   "source": [
    "type(a)\n"
   ]
  },
  {
   "cell_type": "code",
   "execution_count": 9,
   "id": "527dd62e-6fa6-4185-a042-11453c8048eb",
   "metadata": {},
   "outputs": [],
   "source": [
    "mytuple = (\"apple\",\"banana\",\"cherry\")"
   ]
  },
  {
   "cell_type": "code",
   "execution_count": 10,
   "id": "90a1ef0d-f2bd-432b-b65c-c2010957ff8f",
   "metadata": {},
   "outputs": [
    {
     "data": {
      "text/plain": [
       "tuple"
      ]
     },
     "execution_count": 10,
     "metadata": {},
     "output_type": "execute_result"
    }
   ],
   "source": [
    "type(mytuple)"
   ]
  },
  {
   "cell_type": "code",
   "execution_count": 11,
   "id": "2d1651fe-c45f-4dfa-bdb8-f273cf4dc10e",
   "metadata": {},
   "outputs": [],
   "source": [
    "var1 = '' #string datatype\n"
   ]
  },
  {
   "cell_type": "code",
   "execution_count": 16,
   "id": "dc6632ef-0fdf-42a3-8aee-a3c281d5b1e4",
   "metadata": {},
   "outputs": [],
   "source": [
    "var2 = '[DS,ML,PYTHON]'    # string datatype"
   ]
  },
  {
   "cell_type": "code",
   "execution_count": 17,
   "id": "ca099383-258b-4612-9eae-f2c5519f4d34",
   "metadata": {},
   "outputs": [],
   "source": [
    "var3 = ['DS','ML','PYTHON']\n",
    "                                  # list datatype"
   ]
  },
  {
   "cell_type": "code",
   "execution_count": 20,
   "id": "bbf7ed35-e602-4b98-b8a6-2325041c2f5e",
   "metadata": {},
   "outputs": [],
   "source": [
    "var4 = 1.    # float datatype"
   ]
  },
  {
   "cell_type": "code",
   "execution_count": 24,
   "id": "f6e49413-df11-4ba7-8660-8d41bf9ec342",
   "metadata": {},
   "outputs": [
    {
     "data": {
      "text/plain": [
       "2.0"
      ]
     },
     "execution_count": 24,
     "metadata": {},
     "output_type": "execute_result"
    }
   ],
   "source": [
    " a=4    # devision operator \n",
    "b=2\n",
    "a/b\n"
   ]
  },
  {
   "cell_type": "code",
   "execution_count": 27,
   "id": "f3b64302-5b22-485e-a2c6-b893c6cd0f80",
   "metadata": {},
   "outputs": [
    {
     "data": {
      "text/plain": [
       "1"
      ]
     },
     "execution_count": 27,
     "metadata": {},
     "output_type": "execute_result"
    }
   ],
   "source": [
    "a = 3     # modulous operator  return remainder\n",
    "b =2\n",
    "a%b"
   ]
  },
  {
   "cell_type": "code",
   "execution_count": 29,
   "id": "afbc9373-c1f3-48a0-99ad-4022bdda1cf6",
   "metadata": {},
   "outputs": [
    {
     "data": {
      "text/plain": [
       "7"
      ]
     },
     "execution_count": 29,
     "metadata": {},
     "output_type": "execute_result"
    }
   ],
   "source": [
    "15//2   #floor operator"
   ]
  },
  {
   "cell_type": "code",
   "execution_count": 1,
   "id": "26febf21-11eb-44bd-9c91-4bb8427ad705",
   "metadata": {},
   "outputs": [
    {
     "data": {
      "text/plain": [
       "8"
      ]
     },
     "execution_count": 1,
     "metadata": {},
     "output_type": "execute_result"
    }
   ],
   "source": [
    "2**3      # power operator"
   ]
  },
  {
   "cell_type": "code",
   "execution_count": 5,
   "id": "96202ba5-1dab-4d82-ab35-35c62a95f7d3",
   "metadata": {},
   "outputs": [
    {
     "name": "stdout",
     "output_type": "stream",
     "text": [
      "<class 'int'>\n",
      "2\n",
      "<class 'int'>\n",
      "3\n",
      "<class 'int'>\n",
      "4\n",
      "<class 'int'>\n",
      "5\n",
      "<class 'int'>\n",
      "6\n",
      "<class 'float'>\n",
      "2.2\n",
      "<class 'str'>\n",
      "code\n",
      "<class 'str'>\n",
      "run\n",
      "<class 'complex'>\n",
      "(4+5j)\n",
      "<class 'bool'>\n",
      "True\n"
     ]
    }
   ],
   "source": [
    "l = [2,3,4,5,6,2.2,\"code\",\"run\",4+5j,True]\n",
    "for i in l:\n",
    "    print(type(i))\n",
    "    print(i)\n",
    "\n",
    "    \n"
   ]
  },
  {
   "cell_type": "code",
   "execution_count": 23,
   "id": "ed3208d8-26f0-4c6f-9a01-707904301445",
   "metadata": {},
   "outputs": [
    {
     "name": "stdout",
     "output_type": "stream",
     "text": [
      "22  not divisible by 3\n",
      "34  not divisible by 3\n",
      "5  not divisible by 3\n",
      "6 divisible by 3\n",
      "4  not divisible by 3\n",
      "3 divisible by 3\n",
      "21 divisible by 3\n",
      "27 divisible by 3\n",
      "9 divisible by 3\n",
      "6 divisible by 3\n",
      "10  not divisible by 3\n",
      "30 divisible by 3\n",
      "40  not divisible by 3\n",
      "66 divisible by 3\n",
      "33 divisible by 3\n",
      "34  not divisible by 3\n",
      "66 divisible by 3\n",
      "63 divisible by 3\n",
      "3 divisible by 3\n",
      "4  not divisible by 3\n",
      "32  not divisible by 3\n",
      "343  not divisible by 3\n",
      "300 divisible by 3\n",
      "27 divisible by 3\n",
      "30 divisible by 3\n"
     ]
    }
   ],
   "source": [
    "l = [22,34,5,6,4,3,21,27,9,6,10,30,40,66,33,34,66,63,3,4,32, 343,300,27,30]\n",
    "for i in l:\n",
    "    if i%3 == 0:\n",
    "        print(i ,\"divisible by 3\")\n",
    "    else:\n",
    "        print(i, \" not divisible by 3\")\n"
   ]
  },
  {
   "cell_type": "code",
   "execution_count": 25,
   "id": "4a07832a-324e-46fb-8830-c01508b484d6",
   "metadata": {},
   "outputs": [
    {
     "name": "stdout",
     "output_type": "stream",
     "text": [
      "[3, 5, 6.6, (4+5j), True, 'python']\n",
      "[3, 100, 6.6, (4+5j), True, 'python']\n"
     ]
    }
   ],
   "source": [
    "# mutable data type whose data can be change .\n",
    "\n",
    "list = [3,5,6.6,4+5j,True,\"python\"]\n",
    "print(list)\n",
    "list[1] = 100\n",
    "print(list)"
   ]
  },
  {
   "cell_type": "code",
   "execution_count": 27,
   "id": "c4f42f14-c262-4fa6-b106-1b770ea5dda8",
   "metadata": {},
   "outputs": [
    {
     "name": "stdout",
     "output_type": "stream",
     "text": [
      "juhi\n"
     ]
    },
    {
     "ename": "NameError",
     "evalue": "name 'k' is not defined",
     "output_type": "error",
     "traceback": [
      "\u001b[0;31m---------------------------------------------------------------------------\u001b[0m",
      "\u001b[0;31mNameError\u001b[0m                                 Traceback (most recent call last)",
      "Cell \u001b[0;32mIn[27], line 4\u001b[0m\n\u001b[1;32m      2\u001b[0m s \u001b[38;5;241m=\u001b[39m \u001b[38;5;124m\"\u001b[39m\u001b[38;5;124mjuhi\u001b[39m\u001b[38;5;124m\"\u001b[39m\n\u001b[1;32m      3\u001b[0m \u001b[38;5;28mprint\u001b[39m(s)\n\u001b[0;32m----> 4\u001b[0m s[\u001b[38;5;241m1\u001b[39m]\u001b[38;5;241m=\u001b[39m\u001b[43mk\u001b[49m\n\u001b[1;32m      5\u001b[0m \u001b[38;5;28mprint\u001b[39m(s)\n",
      "\u001b[0;31mNameError\u001b[0m: name 'k' is not defined"
     ]
    }
   ],
   "source": [
    "# immutable datatype whose data cannot be changed.\n",
    "s = \"juhi\"\n",
    "print(s)\n",
    "s[1]=k # not changed\n",
    "print(s)"
   ]
  },
  {
   "cell_type": "code",
   "execution_count": null,
   "id": "a496a895-5d80-499d-a4b1-444371467751",
   "metadata": {},
   "outputs": [
    {
     "name": "stdin",
     "output_type": "stream",
     "text": [
      "Enter start 1\n",
      "Enter end 5\n"
     ]
    }
   ],
   "source": [
    "start = int(input(\"Enter start\"))\n",
    "end = int(input(\"Enter end\"))\n",
    "while (start <=end :\n",
    "    if start%5 == 0:\n",
    "        print(start)\n",
    "        start = start+1\n",
    "    \n",
    "    \n",
    "    "
   ]
  },
  {
   "cell_type": "code",
   "execution_count": null,
   "id": "da11c454-3c52-414b-b76f-b371fc5628df",
   "metadata": {},
   "outputs": [],
   "source": []
  }
 ],
 "metadata": {
  "kernelspec": {
   "display_name": "Python 3 (ipykernel)",
   "language": "python",
   "name": "python3"
  },
  "language_info": {
   "codemirror_mode": {
    "name": "ipython",
    "version": 3
   },
   "file_extension": ".py",
   "mimetype": "text/x-python",
   "name": "python",
   "nbconvert_exporter": "python",
   "pygments_lexer": "ipython3",
   "version": "3.10.8"
  }
 },
 "nbformat": 4,
 "nbformat_minor": 5
}
