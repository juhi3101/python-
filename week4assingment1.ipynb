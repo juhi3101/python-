{
 "cells": [
  {
   "cell_type": "code",
   "execution_count": 1,
   "id": "f5805a00-e733-443c-bcc2-91bed2a77c40",
   "metadata": {},
   "outputs": [
    {
     "name": "stdout",
     "output_type": "stream",
     "text": [
      "juhi\n",
      "23\n"
     ]
    }
   ],
   "source": [
    "# explain class and object with respect to object oriented programming.give a suitable example.\n",
    "'''\n",
    "class is like an object constructor or a 'blueprint' for  creating object.\n",
    "object is an instance of class. class is like blueprint while an instance is a copy of class with actual values.\n",
    "An object consist of :\n",
    "state,behaviour,identity.\n",
    "'''\n",
    "\n",
    "class person :\n",
    "    def __init__(self,name,age):\n",
    "        self.name = name\n",
    "        self.age  = age\n",
    "p1 = person(\"juhi\",23)\n",
    "print(p1.name)\n",
    "print(p1.age)\n",
    "    \n",
    "    "
   ]
  },
  {
   "cell_type": "code",
   "execution_count": 2,
   "id": "9c83d6c7-1b10-4f36-a556-f42ed1811bd1",
   "metadata": {},
   "outputs": [
    {
     "data": {
      "text/plain": [
       "'\\nfour pillars of oops:\\n1. inheritence\\n2. encapsulation\\n3. abstraction\\n4. polymorphism\\n\\n'"
      ]
     },
     "execution_count": 2,
     "metadata": {},
     "output_type": "execute_result"
    }
   ],
   "source": [
    "# Name the four pillars of OOps.\n",
    "\n",
    "'''\n",
    "four pillars of oops:\n",
    "1. inheritence\n",
    "2. encapsulation\n",
    "3. abstraction\n",
    "4. polymorphism\n",
    "\n",
    "'''"
   ]
  },
  {
   "cell_type": "code",
   "execution_count": 4,
   "id": "eb5f40c3-0f0b-4af9-bc9e-05e5242fcdc7",
   "metadata": {},
   "outputs": [
    {
     "name": "stdout",
     "output_type": "stream",
     "text": [
      "datascience\n",
      "juhi\n"
     ]
    }
   ],
   "source": [
    "# explain the __init__()function is used ? give a suitable example.\n",
    "\n",
    "'''\n",
    "__init__function is called every time an object is created from class.method lets the class initialize the object's attribute\n",
    "and serve no other purpose. only used within classes.\n",
    "'''\n",
    "\n",
    "class pwskills:\n",
    "    def __init__(self ,course,name):\n",
    "        self.course = course\n",
    "        self.name = name\n",
    "p1 = pwskills(\"datascience\",\"juhi\")\n",
    "print(p1.course)\n",
    "print(p1.name)\n",
    "    "
   ]
  },
  {
   "cell_type": "code",
   "execution_count": 1,
   "id": "54e1de70-8226-49af-a989-c0ad3a817c33",
   "metadata": {},
   "outputs": [
    {
     "data": {
      "text/plain": [
       "'\\nself parameter used for current instance of class and is used to access variable that belongs to the class.\\nit does not have to be named self you can call whatever you like but it has to be first parameter of any function in class. \\n'"
      ]
     },
     "execution_count": 1,
     "metadata": {},
     "output_type": "execute_result"
    }
   ],
   "source": [
    "# why self is used in oops.\n",
    "'''\n",
    "self parameter used for current instance of class and is used to access variable that belongs to the class.\n",
    "it does not have to be named self you can call whatever you like but it has to be first parameter of any function in class. \n",
    "'''\n"
   ]
  },
  {
   "cell_type": "code",
   "execution_count": 3,
   "id": "4c0960fa-3d3b-4699-9f16-9ebc3fbca1b6",
   "metadata": {},
   "outputs": [
    {
     "name": "stdout",
     "output_type": "stream",
     "text": [
      "dog barking\n",
      "animal speaking\n"
     ]
    }
   ],
   "source": [
    "# what is inheritence ? give en example of each type of inheritence.\n",
    "'''\n",
    "inheritence is capability of one class to derive the method and behaviour from  another class.\n",
    "'''\n",
    "\n",
    "# single level inheritence\n",
    "\n",
    "class Animal:\n",
    "    def speak(self):\n",
    "        print(\"animal speaking\")\n",
    "class Dog(Animal):\n",
    "    def bark(self):\n",
    "        print(\"dog barking\")\n",
    "d = Dog()\n",
    "d.bark()\n",
    "d.speak()\n",
    "    \n"
   ]
  },
  {
   "cell_type": "code",
   "execution_count": 3,
   "id": "34bcc7df-1aba-468f-ad4f-0c743b6d4983",
   "metadata": {},
   "outputs": [
    {
     "name": "stdout",
     "output_type": "stream",
     "text": [
      "dog barking\n",
      "animal speaking\n"
     ]
    }
   ],
   "source": [
    "# multi level inheritence\n",
    "class Animal:\n",
    "    def speak(self):\n",
    "        print(\"animal speaking\")\n",
    "class Dog(Animal):\n",
    "    def bark(self):\n",
    "        print(\"dog barking\")\n",
    "class DogChild()\n",
    "d = Dog()\n",
    "d.bark()\n",
    "d.speak()\n",
    "    \n"
   ]
  },
  {
   "cell_type": "code",
   "execution_count": null,
   "id": "a6bf6393-8292-42b8-8209-b990975df791",
   "metadata": {},
   "outputs": [],
   "source": []
  }
 ],
 "metadata": {
  "kernelspec": {
   "display_name": "Python 3 (ipykernel)",
   "language": "python",
   "name": "python3"
  },
  "language_info": {
   "codemirror_mode": {
    "name": "ipython",
    "version": 3
   },
   "file_extension": ".py",
   "mimetype": "text/x-python",
   "name": "python",
   "nbconvert_exporter": "python",
   "pygments_lexer": "ipython3",
   "version": "3.10.8"
  }
 },
 "nbformat": 4,
 "nbformat_minor": 5
}
