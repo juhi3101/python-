{
 "cells": [
  {
   "cell_type": "code",
   "execution_count": 1,
   "id": "d22434c5-230a-4a37-9a6c-5c03dd9aaecf",
   "metadata": {},
   "outputs": [
    {
     "ename": "SyntaxError",
     "evalue": "invalid character '‘' (U+2018) (3422267560.py, line 3)",
     "output_type": "error",
     "traceback": [
      "\u001b[0;36m  Cell \u001b[0;32mIn[1], line 3\u001b[0;36m\u001b[0m\n\u001b[0;31m    course_name = [‘Data Science’, ‘Machine Learning’, ‘Big Data’, ‘Data Engineer’]\u001b[0m\n\u001b[0m                   ^\u001b[0m\n\u001b[0;31mSyntaxError\u001b[0m\u001b[0;31m:\u001b[0m invalid character '‘' (U+2018)\n"
     ]
    }
   ],
   "source": [
    "Consider following code to answer further questions:\n",
    "import pandas as pd\n",
    "course_name = [‘Data Science’, ‘Machine Learning’, ‘Big Data’, ‘Data Engineer’]\n",
    "duration = [2,3,6,4]\n",
    "df = pd.DataFrame(data = {‘course_name’ : course_name, ‘duration’ : duration})"
   ]
  },
  {
   "cell_type": "code",
   "execution_count": 2,
   "id": "22abb011-dde5-4592-9235-9582e4049223",
   "metadata": {},
   "outputs": [
    {
     "name": "stdout",
     "output_type": "stream",
     "text": [
      "        course_name  duration\n",
      "0      Data Science         2\n",
      "1  Machine Learning         3\n",
      "2          Big Data         6\n",
      "3     Data Engineer         4\n",
      "\n"
     ]
    },
    {
     "data": {
      "text/plain": [
       "0    2\n",
       "1    3\n",
       "2    6\n",
       "3    4\n",
       "Name: duration, dtype: int64"
      ]
     },
     "execution_count": 2,
     "metadata": {},
     "output_type": "execute_result"
    }
   ],
   "source": [
    "# Write a code to print the data present in the second row of the dataframe, df.\n",
    "\n",
    "import pandas as pd\n",
    "course_name = ['Data Science', 'Machine Learning', 'Big Data', 'Data Engineer']\n",
    "duration = [2,3,6,4]\n",
    "df = pd.DataFrame(data  ={'course_name' : course_name, 'duration' : duration})\n",
    "print(df)\n",
    "print()\n",
    "\n",
    "df['duration']"
   ]
  },
  {
   "cell_type": "code",
   "execution_count": 3,
   "id": "be69854d-4d58-4f3f-b0d3-5e28232e1b54",
   "metadata": {},
   "outputs": [
    {
     "data": {
      "text/html": [
       "<div>\n",
       "<style scoped>\n",
       "    .dataframe tbody tr th:only-of-type {\n",
       "        vertical-align: middle;\n",
       "    }\n",
       "\n",
       "    .dataframe tbody tr th {\n",
       "        vertical-align: top;\n",
       "    }\n",
       "\n",
       "    .dataframe thead th {\n",
       "        text-align: right;\n",
       "    }\n",
       "</style>\n",
       "<table border=\"1\" class=\"dataframe\">\n",
       "  <thead>\n",
       "    <tr style=\"text-align: right;\">\n",
       "      <th></th>\n",
       "      <th>course_name</th>\n",
       "      <th>duration</th>\n",
       "    </tr>\n",
       "  </thead>\n",
       "  <tbody>\n",
       "    <tr>\n",
       "      <th>0</th>\n",
       "      <td>Data Science</td>\n",
       "      <td>2</td>\n",
       "    </tr>\n",
       "    <tr>\n",
       "      <th>1</th>\n",
       "      <td>Machine Learning</td>\n",
       "      <td>3</td>\n",
       "    </tr>\n",
       "    <tr>\n",
       "      <th>2</th>\n",
       "      <td>Big Data</td>\n",
       "      <td>6</td>\n",
       "    </tr>\n",
       "  </tbody>\n",
       "</table>\n",
       "</div>"
      ],
      "text/plain": [
       "        course_name  duration\n",
       "0      Data Science         2\n",
       "1  Machine Learning         3\n",
       "2          Big Data         6"
      ]
     },
     "execution_count": 3,
     "metadata": {},
     "output_type": "execute_result"
    }
   ],
   "source": [
    "# What is the difference between the functions loc and iloc in pandas.DataFrame?\n",
    "'''\n",
    "loc stand for \"location\" it is label based indexing.it is used to access group of rows and column by label.'''\n",
    "\n",
    "df.loc[1:2,'duration']\n",
    "\n",
    "''' iloc stand for \"integer location\" and it is integer based indexing. it is used to access group of rows and columns by \n",
    "integer position.'''\n",
    "\n",
    "df.iloc[0:3,[0,1]]"
   ]
  },
  {
   "cell_type": "code",
   "execution_count": 4,
   "id": "9d3c4aad-25e4-41cd-bffa-fe2e233c79dd",
   "metadata": {},
   "outputs": [
    {
     "name": "stdout",
     "output_type": "stream",
     "text": [
      "        course_name  duration\n",
      "3     Data Engineer         4\n",
      "0      Data Science         2\n",
      "1  Machine Learning         3\n",
      "2          Big Data         6\n",
      "\n",
      "course_name    Big Data\n",
      "duration              6\n",
      "Name: 2, dtype: object\n",
      "\n",
      "course_name    Machine Learning\n",
      "duration                      3\n",
      "Name: 1, dtype: object\n"
     ]
    }
   ],
   "source": [
    "#Reindex the given dataframe using a variable, reindex = [3,0,1,2] and store it in the variable, new_df\n",
    "#then find the output for both new_df.loc[2] and new_df.iloc[2].\n",
    "\n",
    "new_df = pd.DataFrame(df,index=[3,0,1,2])\n",
    "print(new_df)\n",
    "print()\n",
    "\n",
    "print(new_df.loc[2]) # it include both start and end index in slicing\n",
    "print()\n",
    "print(new_df.iloc[2]) # it include start index but exclude end index in slicing\n"
   ]
  },
  {
   "cell_type": "code",
   "execution_count": 5,
   "id": "9ed877ac-acc6-486a-9315-052e3266f912",
   "metadata": {},
   "outputs": [],
   "source": [
    "#Consider the below code to answer further questions:\n",
    "import pandas as pd\n",
    "import numpy as np\n",
    "columns = ['column_1', 'column_2', 'column_3', 'column_4', 'column_5', 'column_6']\n",
    "indices = [1,2,3,4,5,6]\n",
    "#Creating a dataframe:\n",
    "df1 = pd.DataFrame(np.random.rand(6,6), columns = columns, index = indices)"
   ]
  },
  {
   "cell_type": "code",
   "execution_count": 9,
   "id": "b23d4f3b-1e7e-43a7-a0fa-99bfd4fb0dfe",
   "metadata": {},
   "outputs": [
    {
     "name": "stdout",
     "output_type": "stream",
     "text": [
      "column_1    0.368088\n",
      "column_2    0.635312\n",
      "column_3    0.158112\n",
      "column_4    0.694191\n",
      "column_5    0.309934\n",
      "column_6    0.342716\n",
      "dtype: float64\n",
      "   column_1  column_2  column_3  column_4  column_5  column_6\n",
      "1  0.383043  0.943968  0.175986  0.646799  0.489784  0.433683\n",
      "2  0.746769  0.393452  0.171039  0.833560  0.294551  0.120754\n",
      "3  0.562706  0.963263  0.141810  0.819669  0.135505  0.868588\n",
      "4  0.296360  0.693063  0.244460  0.523132  0.012700  0.125545\n",
      "5  0.074987  0.243865  0.194086  0.378449  0.608349  0.030775\n",
      "6  0.144664  0.574258  0.021295  0.963535  0.318713  0.476953\n"
     ]
    },
    {
     "data": {
      "text/plain": [
       "0.2903827744133442"
      ]
     },
     "execution_count": 9,
     "metadata": {},
     "output_type": "execute_result"
    }
   ],
   "source": [
    "'''Q4. Write a code to find the following statistical measurements for the above dataframe df1:\n",
    "(i) mean of each and every column present in the dataframe.\n",
    "(ii) standard deviation of column, ‘column_2’\n",
    "'''\n",
    "\n",
    "print(df1.mean())\n",
    "print(df1)\n",
    "\n",
    "df1['column_2'].std()"
   ]
  },
  {
   "cell_type": "code",
   "execution_count": 10,
   "id": "065eb445-ff9d-43c5-988e-f31e42e66193",
   "metadata": {},
   "outputs": [
    {
     "data": {
      "text/plain": [
       "'\\nIn pandas, window functions are operations that allow you to perform calculations over a specified window of rows in a \\nDataFrame. These functionsare particularly useful for tasks that involve computing rolling statistics, moving averages,\\ncumulative sums, and other .\\nRolling windows operate over a fixed-size \"window\" of consecutive rows.\\nThey are created using the .rolling(window_size) method on a Series or DataFrame.\\nSome common aggregation functions that you can use rolling windows include:\\n\\n.sum()\\n.mean()\\n.median()\\n.min()\\n.max()\\n.std()\\n.var()\\n.count()'"
      ]
     },
     "execution_count": 10,
     "metadata": {},
     "output_type": "execute_result"
    }
   ],
   "source": [
    "# What do you understand about the windows function in pandas and list the types of windows functions?\n",
    "'''\n",
    "In pandas, window functions are operations that allow you to perform calculations over a specified window of rows in a \n",
    "DataFrame. These functionsare particularly useful for tasks that involve computing rolling statistics, moving averages,\n",
    "cumulative sums, and other .\n",
    "Rolling windows operate over a fixed-size \"window\" of consecutive rows.\n",
    "They are created using the .rolling(window_size) method on a Series or DataFrame.\n",
    "Some common aggregation functions that you can use rolling windows include:\n",
    "\n",
    ".sum()\n",
    ".mean()\n",
    ".median()\n",
    ".min()\n",
    ".max()\n",
    ".std()\n",
    ".var()\n",
    ".count()'''"
   ]
  },
  {
   "cell_type": "code",
   "execution_count": 11,
   "id": "44d971ff-af8a-4c2c-9587-e748718ebd1d",
   "metadata": {},
   "outputs": [
    {
     "name": "stdout",
     "output_type": "stream",
     "text": [
      "Current Month: 8\n",
      "Current Year: 2023\n"
     ]
    }
   ],
   "source": [
    "# Write a code to print only the current month and year at the time of answering this question.\n",
    "\n",
    "from datetime import datetime\n",
    "\n",
    "\n",
    "current_date = datetime.now()\n",
    "\n",
    "\n",
    "current_month = current_date.month\n",
    "current_year = current_date.year\n",
    "\n",
    "\n",
    "print(f\"Current Month: {current_month}\")\n",
    "print(f\"Current Year: {current_year}\")\n"
   ]
  },
  {
   "cell_type": "code",
   "execution_count": 12,
   "id": "78783362-b76b-4ff7-bf13-0d0bc54dd59c",
   "metadata": {},
   "outputs": [
    {
     "name": "stdin",
     "output_type": "stream",
     "text": [
      "Enter the first date (YYYY-MM-DD):  2023-01-31\n",
      "Enter the second date (YYYY-MM-DD):  2023-08-04\n"
     ]
    },
    {
     "name": "stdout",
     "output_type": "stream",
     "text": [
      "Time difference: 185 days, 0 hours, 0 minutes\n"
     ]
    }
   ],
   "source": [
    "'''Write a Python program that takes in two dates as input (in the format YYYY-MM-DD) and\n",
    "calculates the difference between them in days, hours, and minutes using Pandas time delta. The\n",
    "program should prompt the user to enter the dates and display the result.'''\n",
    "\n",
    "import pandas as pd\n",
    "\n",
    "\n",
    "date1_str = input(\"Enter the first date (YYYY-MM-DD): \")\n",
    "date2_str = input(\"Enter the second date (YYYY-MM-DD): \")\n",
    "\n",
    "date1 = pd.to_datetime(date1_str)\n",
    "date2 = pd.to_datetime(date2_str)\n",
    "\n",
    "\n",
    "time_difference = date2 - date1\n",
    "\n",
    "days = time_difference.days\n",
    "hours = time_difference.seconds // 3600\n",
    "minutes = (time_difference.seconds // 60) % 60\n",
    "\n",
    "\n",
    "print(f\"Time difference: {days} days, {hours} hours, {minutes} minutes\")\n"
   ]
  },
  {
   "cell_type": "code",
   "execution_count": null,
   "id": "44abece7-97ba-4387-b1d6-5aaae005c228",
   "metadata": {},
   "outputs": [],
   "source": []
  }
 ],
 "metadata": {
  "kernelspec": {
   "display_name": "Python 3 (ipykernel)",
   "language": "python",
   "name": "python3"
  },
  "language_info": {
   "codemirror_mode": {
    "name": "ipython",
    "version": 3
   },
   "file_extension": ".py",
   "mimetype": "text/x-python",
   "name": "python",
   "nbconvert_exporter": "python",
   "pygments_lexer": "ipython3",
   "version": "3.10.8"
  }
 },
 "nbformat": 4,
 "nbformat_minor": 5
}
