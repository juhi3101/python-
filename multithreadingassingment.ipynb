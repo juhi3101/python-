{
 "cells": [
  {
   "cell_type": "code",
   "execution_count": null,
   "id": "c7f79279-abb3-44a4-aff6-a74d9be39f1a",
   "metadata": {},
   "outputs": [],
   "source": [
    "# what is multithreading in python? why is it used? name the module used to handle thread in python.\n",
    "'''\n",
    "multithreading is used to achieve multitasking.Multithreading is defined as ability of a processor to execute multiple thread\n",
    "concurrently.multithreading facilitates sharing data space and resources of multiple  threads with main thread. it allows \n",
    "efficient and easy communication between the threads.\n",
    "Module use dto handle thread in python\n",
    "start() used to initiate activity of thread\n",
    "run() used to define thread's activity and can be overridden by a class that extend the thread class.\n",
    "join() used to block execution of another code until the thread terminates.\n",
    "'''"
   ]
  },
  {
   "cell_type": "code",
   "execution_count": null,
   "id": "6795af2d-f5d0-4c7e-ae44-dc31901aa851",
   "metadata": {},
   "outputs": [],
   "source": [
    "# why threading module used ? write the use of following function.\n",
    "'''\n",
    "1. activeCount() -- used to count the currently active or running thread\n",
    "syntax threading.activeCount()\n",
    "\n",
    "2. currentThread() -- it is an inbuilt method of threading module, it is used to return the current thread object, which \n",
    "correspond to caller's  thread of control.\n",
    "\n",
    "3. enumerate() -- used to add counter to an iterable and return it in form of enumerating object. enumerated object can then be\n",
    "used directly for loops or converted into list of tuples using list() funtion.\n",
    "'''\n"
   ]
  },
  {
   "cell_type": "code",
   "execution_count": null,
   "id": "3d1a6b64-14ed-40a3-802b-d0fc7455f401",
   "metadata": {},
   "outputs": [],
   "source": [
    "#explain tje following function\n",
    "'''\n",
    "1.run(): run() method is the entry point for a  thread.\n",
    "2.start(): start() method start the thread by calling the run  method.\n",
    "3.join(): join() method wait for threads to terminate.\n",
    "4.isAlive(): method used to check weather a thread is still executing.\n",
    "'''"
   ]
  },
  {
   "cell_type": "code",
   "execution_count": 1,
   "id": "55b1940d-804a-4880-acaa-911f2e8fe680",
   "metadata": {},
   "outputs": [
    {
     "name": "stdout",
     "output_type": "stream",
     "text": [
      "square: 100\n",
      "cube: 1000\n",
      "Done!\n"
     ]
    }
   ],
   "source": [
    "# write a python program to create two threads. thread one must print list of squares and thread two must print list of cubes.\n",
    "import threading\n",
    "def print_cube(num):\n",
    "    print(\"cube: {}\" .format(num*num*num))\n",
    "def print_square(num):\n",
    "    print(\"square: {}\" .format(num*num))\n",
    "    \n",
    "if __name__ == \"__main__\":\n",
    "    t1 = threading.Thread(target = print_square, args=(10,))\n",
    "    t2 = threading.Thread(target = print_cube, args=(10,))\n",
    "    \n",
    "    t1.start()\n",
    "    t2.start()\n",
    "    t1.join()\n",
    "    t2.join()\n",
    "    \n",
    "    print(\"Done!\")"
   ]
  },
  {
   "cell_type": "code",
   "execution_count": null,
   "id": "1c8cd976-bfab-438f-bf4e-a704cf71a356",
   "metadata": {},
   "outputs": [],
   "source": [
    "# state advantage and disadvantage of multithreading.\n",
    "'''\n",
    "advantage\n",
    "1. enable efficient utilization of resources as the thread shares the data space and memory.\n",
    "2.Multithreading in python allow the concurrent and parallel occurence of various task.\n",
    "3.it cause reduction in time consumption or response time by increasing the performance.\n",
    "\n",
    "disadvantage\n",
    "1. difficult in writing code.\n",
    "2. difficult of debugging.\n",
    "3. difficult of testing.\n",
    "4.difficult of managing concurrency.\n",
    "'''"
   ]
  },
  {
   "cell_type": "code",
   "execution_count": null,
   "id": "29bc71c4-ce36-4bfc-8c78-5b1121dfa0eb",
   "metadata": {},
   "outputs": [],
   "source": [
    "# explain deadlock and race condition.\n",
    "'''\n",
    "when two process waiting for each other to free the resources this is called deadlock.\n",
    "when t1 uses a resources r1 and require r2 which is acquire by t2 and t2 also waiting for r1 , in this neither of t1 and t2\n",
    "accomplished their task and this is called deadlock.\n",
    "\n",
    "race \n",
    "'''"
   ]
  }
 ],
 "metadata": {
  "kernelspec": {
   "display_name": "Python 3 (ipykernel)",
   "language": "python",
   "name": "python3"
  },
  "language_info": {
   "codemirror_mode": {
    "name": "ipython",
    "version": 3
   },
   "file_extension": ".py",
   "mimetype": "text/x-python",
   "name": "python",
   "nbconvert_exporter": "python",
   "pygments_lexer": "ipython3",
   "version": "3.10.8"
  }
 },
 "nbformat": 4,
 "nbformat_minor": 5
}
