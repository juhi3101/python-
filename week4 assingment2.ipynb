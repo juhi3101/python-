{
 "cells": [
  {
   "cell_type": "code",
   "execution_count": 2,
   "id": "7aa788a3-f7e0-40e2-b754-60c43129355c",
   "metadata": {},
   "outputs": [
    {
     "name": "stdout",
     "output_type": "stream",
     "text": [
      "i can walk and run\n",
      "i can crawl\n"
     ]
    }
   ],
   "source": [
    "# what is abstraction in oops? explain with an example.\n",
    "'''\n",
    "process of hiding internal featurse only providing neceessary data to user. for example while operating tv remote we know how to increase volume , \n",
    "how to change channel but do not know thw internal working of remote.\n",
    "python provide abc module to use abstraction in python programming.\n",
    "'''\n",
    "from abc import ABC\n",
    "class Animal(ABC):\n",
    "    def move(self):\n",
    "        pass\n",
    "class Human(Animal):\n",
    "    def move(self):\n",
    "        print(\"i can walk and run\")\n",
    "class Snake(Animal):\n",
    "    def move(self):\n",
    "        print(\"i can crawl\")\n",
    "R = Human()\n",
    "R.move()\n",
    "\n",
    "K= Snake()\n",
    "K.move()\n",
    "    \n"
   ]
  },
  {
   "cell_type": "code",
   "execution_count": 3,
   "id": "3eb8961a-f378-403f-a42d-60c6d131f467",
   "metadata": {},
   "outputs": [
    {
     "data": {
      "text/plain": [
       "'\\nAbstraction is process of gaining information,  and , Encapsulation is a method that wrap up data into single module.\\nAbstraction solved at interface level, and , encapsualtion are solved at implementation level.\\nabstarction helps hide unwanted details, and, encapsualtion work hiding data under single entity\\n\\n'"
      ]
     },
     "execution_count": 3,
     "metadata": {},
     "output_type": "execute_result"
    }
   ],
   "source": [
    "# Differentiate between Abstraction and Encapsulation . Explain with an example.\n",
    "'''\n",
    "Abstraction is process of gaining information,  and , Encapsulation is a method that wrap up data into single module.\n",
    "Abstraction solved at interface level, and , encapsualtion are solved at implementation level.\n",
    "abstarction helps hide unwanted details, and, encapsualtion work hiding data under single entity\n",
    "\n",
    "'''"
   ]
  },
  {
   "cell_type": "code",
   "execution_count": 4,
   "id": "481e6600-9cf5-4e0b-82f7-98d922de861d",
   "metadata": {},
   "outputs": [
    {
     "data": {
      "text/plain": [
       "'\\nabc module in python library provide infrastucture for defining custom abstract class.it offer necessary tools for crafting\\nan abstract base class.\\n'"
      ]
     },
     "execution_count": 4,
     "metadata": {},
     "output_type": "execute_result"
    }
   ],
   "source": [
    "# what is abc module in python ? why is it used?\n",
    "'''\n",
    "abc module in python library provide infrastucture for defining custom abstract class.it offer necessary tools for crafting\n",
    "an abstract base class.\n",
    "'''\n"
   ]
  },
  {
   "cell_type": "code",
   "execution_count": 5,
   "id": "824200be-04c1-4dc4-8f28-f5399a8c82c9",
   "metadata": {},
   "outputs": [
    {
     "data": {
      "text/plain": [
       "'\\nit is reduction of particular body of data to a simplified representaion of the whole. abstraction in general is the process of removing\\ncharactiristics from something to reduce it to set of esssential element.\\n'"
      ]
     },
     "execution_count": 5,
     "metadata": {},
     "output_type": "execute_result"
    }
   ],
   "source": [
    "# How can we achieve data abstraction.\n",
    "'''\n",
    "it is reduction of particular body of data to a simplified representaion of the whole. abstraction in general is the process of removing\n",
    "charactiristics from something to reduce it to set of esssential element.\n",
    "'''"
   ]
  },
  {
   "cell_type": "code",
   "execution_count": null,
   "id": "551cf261-ff1d-4474-9b51-e99794322832",
   "metadata": {},
   "outputs": [],
   "source": [
    "# can we create an instatance of an abstract class ? explain your answer.\n",
    "'''\n",
    "an abstract class is a class that cannot be instantiated. however you can create classes that inherit from an abstract class.\n",
    "'''\n",
    "from abc import ABC , abstract method\n",
    "\n",
    "class Employee(ABC):\n",
    "    def __init__(self, first_name, last_name):\n",
    "        self.first_name = first_name\n",
    "        self.last_name = last_name\n",
    "    @property\n",
    "    def full_name(self):\n",
    "        return f\"{self.first_name} {self.last_name}\"\n",
    "    @abstractmethod\n",
    "    def get_salary(self):\n",
    "        pass\n",
    "    \n",
    "    "
   ]
  }
 ],
 "metadata": {
  "kernelspec": {
   "display_name": "Python 3 (ipykernel)",
   "language": "python",
   "name": "python3"
  },
  "language_info": {
   "codemirror_mode": {
    "name": "ipython",
    "version": 3
   },
   "file_extension": ".py",
   "mimetype": "text/x-python",
   "name": "python",
   "nbconvert_exporter": "python",
   "pygments_lexer": "ipython3",
   "version": "3.10.8"
  }
 },
 "nbformat": 4,
 "nbformat_minor": 5
}
