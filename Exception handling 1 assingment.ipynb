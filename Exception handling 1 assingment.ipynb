{
 "cells": [
  {
   "cell_type": "code",
   "execution_count": 1,
   "id": "4cb41619-3229-4609-a5f9-2dec00b44ae3",
   "metadata": {},
   "outputs": [
    {
     "data": {
      "text/plain": [
       "\"\\nException in python is an incident that happens while executing a program that causes a regular course of program's command to be\\ndisrupted. when a python comes across a condition it can't handle, it raises an exception. An abject in pyhton that describes\\nan error is called an exception.\\nDiffrence between syntax error and exception--\\nsyntax error occur when the structure of program does not confirm to the rules of programming language.syntax error are usually\\ndetected by compiler or interpreter when the program is being compiled or executed and prevent the program from running. \\nsyntax error are usually caused by mistakes in the source code such as typos, omission or incorrect use of syntax.\\n\\nException is an abnoramal event that occur during the execution of program. exception are usually caused by runtime error\\nsuch as dividing by zero, trying to access an element in an array with an out of bound index or trying to access a file that does\\nnot exist. Exception are not syntax error, but they can still prevent the program from running if they are  not handled properly.\\n\""
      ]
     },
     "execution_count": 1,
     "metadata": {},
     "output_type": "execute_result"
    }
   ],
   "source": [
    "# what is an exception in python? write the difference between exception and syntax error.\n",
    "'''\n",
    "Exception in python is an incident that happens while executing a program that causes a regular course of program's command to be\n",
    "disrupted. when a python comes across a condition it can't handle, it raises an exception. An abject in pyhton that describes\n",
    "an error is called an exception.\n",
    "Diffrence between syntax error and exception--\n",
    "syntax error occur when the structure of program does not confirm to the rules of programming language.syntax error are usually\n",
    "detected by compiler or interpreter when the program is being compiled or executed and prevent the program from running. \n",
    "syntax error are usually caused by mistakes in the source code such as typos, omission or incorrect use of syntax.\n",
    "\n",
    "Exception is an abnoramal event that occur during the execution of program. exception are usually caused by runtime error\n",
    "such as dividing by zero, trying to access an element in an array with an out of bound index or trying to access a file that does\n",
    "not exist. Exception are not syntax error, but they can still prevent the program from running if they are  not handled properly.\n",
    "'''"
   ]
  },
  {
   "cell_type": "code",
   "execution_count": 2,
   "id": "73f95b2b-da7a-4048-895e-7f334c9982bc",
   "metadata": {},
   "outputs": [],
   "source": [
    "# what happen when exception is not handled ? Explain with an example.\n",
    "'''\n",
    "when exception not handled properly then exception is re-raised after the finally claused has been executed.\n",
    "'''\n",
    "def divide(x,y):\n",
    "    try:\n",
    "        result = x/y\n",
    "    except ZeroDivisionError:\n",
    "        print(\"division by zero!\")\n",
    "    else:\n",
    "        print(\"result is\", result)\n",
    "    finally:\n",
    "        print(\"executing finally clause\")"
   ]
  },
  {
   "cell_type": "code",
   "execution_count": 3,
   "id": "515e0fea-741a-495d-bfde-fc35b06fec20",
   "metadata": {},
   "outputs": [
    {
     "name": "stdout",
     "output_type": "stream",
     "text": [
      "Error: Denominator cannot be Zero 0.\n"
     ]
    }
   ],
   "source": [
    "# which python statement are used to catch and handle axception ? explain with an example.\n",
    "'''\n",
    "Try and Except statement are used to catch and handle exception in python.statement that can raise exception are kept inside the\n",
    "try clause and statement that handle the exception are written inside the except clause.\n",
    "'''\n",
    "try:\n",
    "    num = 10\n",
    "    deno = 0\n",
    "    result = num/deno\n",
    "    print(result)\n",
    "except:\n",
    "    print(\"Error: Denominator cannot be Zero 0.\")\n",
    "    \n",
    "\n"
   ]
  },
  {
   "cell_type": "code",
   "execution_count": 6,
   "id": "ce5f81a7-7407-4594-ba5c-d35fb91e0846",
   "metadata": {},
   "outputs": [
    {
     "name": "stdin",
     "output_type": "stream",
     "text": [
      "enter the number:  5\n"
     ]
    },
    {
     "name": "stdout",
     "output_type": "stream",
     "text": [
      "Not an Even number!\n",
      "something went wrong\n",
      "The try except is finished\n"
     ]
    },
    {
     "ename": "Exception",
     "evalue": "Sorry, no number below Zero",
     "output_type": "error",
     "traceback": [
      "\u001b[0;31m---------------------------------------------------------------------------\u001b[0m",
      "\u001b[0;31mException\u001b[0m                                 Traceback (most recent call last)",
      "Cell \u001b[0;32mIn[6], line 25\u001b[0m\n\u001b[1;32m     22\u001b[0m x \u001b[38;5;241m=\u001b[39m \u001b[38;5;241m-\u001b[39m\u001b[38;5;241m1\u001b[39m\n\u001b[1;32m     24\u001b[0m \u001b[38;5;28;01mif\u001b[39;00m x \u001b[38;5;241m<\u001b[39m \u001b[38;5;241m0\u001b[39m:\n\u001b[0;32m---> 25\u001b[0m     \u001b[38;5;28;01mraise\u001b[39;00m \u001b[38;5;167;01mException\u001b[39;00m(\u001b[38;5;124m\"\u001b[39m\u001b[38;5;124mSorry, no number below Zero\u001b[39m\u001b[38;5;124m\"\u001b[39m)\n",
      "\u001b[0;31mException\u001b[0m: Sorry, no number below Zero"
     ]
    }
   ],
   "source": [
    "# explain with an example:\n",
    "# a. try and else\n",
    "try:\n",
    "    num = int(input(\"enter the number: \"))\n",
    "    assert num%2 == 0\n",
    "except:\n",
    "    print(\"Not an Even number!\")\n",
    "else:\n",
    "    reciprocal = 1/num\n",
    "    print(reciprocal)\n",
    "\n",
    "# b. finally\n",
    "try:\n",
    "    print(x)\n",
    "except:\n",
    "    print(\"something went wrong\")\n",
    "finally:\n",
    "    print(\"The try except is finished\")\n",
    "    \n",
    "    \n",
    "# c. raise\n",
    "x = -1\n",
    "\n",
    "if x < 0:\n",
    "    raise Exception(\"Sorry, no number below Zero\")\n",
    "    \n",
    "    "
   ]
  },
  {
   "cell_type": "code",
   "execution_count": null,
   "id": "70453a5d-a9ca-4f03-9477-78f939656cf3",
   "metadata": {},
   "outputs": [],
   "source": [
    "# what are custom exception in python ? why do we need custom exception? explain witj an example.\n",
    "'''\n",
    "we can define custom exception by creating a new class that is derived from built in exception class.\n",
    "To create custom exception class you define a class that inherits from built in exception class or one of its subclasses such\n",
    "as ValueError class. custom exception will add information about project - related problems.\n",
    "'''\n",
    "class CustomException(Exception):\n",
    "    \"\"\" My custom exception class \"\"\"\n",
    "    "
   ]
  },
  {
   "cell_type": "code",
   "execution_count": null,
   "id": "79e24861-02d2-41aa-b133-f461d1330c01",
   "metadata": {},
   "outputs": [],
   "source": [
    "# create a custom exceotion class. use this class to handle an exception.\n",
    "class CustomException(Exception):\n",
    "    \"\"\" My custom exception class \"\"\"\n",
    "    \n",
    "try:\n",
    "    raise CustomException(\"this is my custom exception\")\n",
    "exc\n",
    "    "
   ]
  }
 ],
 "metadata": {
  "kernelspec": {
   "display_name": "Python 3 (ipykernel)",
   "language": "python",
   "name": "python3"
  },
  "language_info": {
   "codemirror_mode": {
    "name": "ipython",
    "version": 3
   },
   "file_extension": ".py",
   "mimetype": "text/x-python",
   "name": "python",
   "nbconvert_exporter": "python",
   "pygments_lexer": "ipython3",
   "version": "3.10.8"
  }
 },
 "nbformat": 4,
 "nbformat_minor": 5
}
