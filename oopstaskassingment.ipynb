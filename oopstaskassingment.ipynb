{
 "cells": [
  {
   "cell_type": "code",
   "execution_count": 1,
   "id": "ec685ce3-7efc-4695-b9f3-6217d10be0a6",
   "metadata": {},
   "outputs": [],
   "source": [
    "# create a vehicle class with init method having instance variables as name_of_vehicle,max_speed amd average_of_vehicle.\n",
    "\n",
    "class vehicle:\n",
    "    def __init__(name_of_vehicle,max_speed,average_of_vehicle):\n",
    "        self.name_of_vehicle = name_of_vehicle\n",
    "        self.max_speed = max_speed\n",
    "        self.average_of_vahicle = average_of_vehicle\n"
   ]
  },
  {
   "cell_type": "code",
   "execution_count": 2,
   "id": "a609cdc3-0a19-4699-8d98-1d1485fd5696",
   "metadata": {},
   "outputs": [
    {
     "name": "stdout",
     "output_type": "stream",
     "text": [
      "creta 4\n"
     ]
    }
   ],
   "source": [
    "# create a child class from the vehicle class created on Que 1, which will inherit vehicle class.create a method named seating_capacity\n",
    "#which take capacity as an argument and return name of vehicle and its seating capacity.\n",
    "class vehicle:\n",
    "    def __init__(self,name_of_vehicle,max_speed,average_of_vehicle):\n",
    "        self.name_of_vehicle = name_of_vehicle\n",
    "        self.max_speed = max_speed\n",
    "        self.average_of_vehicle = average_of_vehicle\n",
    "    def return_func(self):\n",
    "        return self.name_of_vehicle,self.max_speed,self.average_of_vehicle\n",
    "class child(vehicle):\n",
    "    def __init__(self,name_of_vehicle,max_speed,average_of_vehicle,capacity):\n",
    "        super() .__init__(name_of_vehicle,max_speed,average_of_vehicle)\n",
    "        self.capacity = capacity\n",
    "        \n",
    "    def func1(self):\n",
    "            print(self.name_of_vehicle,self.capacity)\n",
    "x = child(\"creta\",300,200,4)\n",
    "x.func1()\n",
    "\n"
   ]
  },
  {
   "cell_type": "code",
   "execution_count": 3,
   "id": "69df7547-64eb-4e91-b966-facbf31a7d0a",
   "metadata": {},
   "outputs": [
    {
     "data": {
      "text/plain": [
       "'this from class1'"
      ]
     },
     "execution_count": 3,
     "metadata": {},
     "output_type": "execute_result"
    }
   ],
   "source": [
    "# what is multiple inheritence ? write a python code to demonstarte multiple inheritence.\n",
    "\n",
    "'''\n",
    "when child class derived from multiple base class.\n",
    "'''\n",
    "\n",
    "class class1:\n",
    "    def test1(self):\n",
    "        return \"this from class1\"\n",
    "class class2(class1):\n",
    "    def test2(self):\n",
    "        return \"this from class2\"\n",
    "class class3(class2):\n",
    "    pass\n",
    "\n",
    "obj = class3()\n",
    "obj.test2()\n",
    "obj.test1()"
   ]
  },
  {
   "cell_type": "code",
   "execution_count": null,
   "id": "0ae605c7-40eb-48e1-9066-240df04004ca",
   "metadata": {},
   "outputs": [],
   "source": []
  },
  {
   "cell_type": "code",
   "execution_count": 4,
   "id": "e4598e38-aa8a-4aa9-919b-47ec43a6568a",
   "metadata": {},
   "outputs": [
    {
     "data": {
      "text/plain": [
       "12345"
      ]
     },
     "execution_count": 4,
     "metadata": {},
     "output_type": "execute_result"
    }
   ],
   "source": [
    "#what are getter and setter in pyhton ? create a class ans create a getter and setter method in class.\n",
    "\n",
    "'''\n",
    "To avoid direct access of a class field i.e. private variable cannot be accessed dierctly or modified by external user.\n",
    "\n",
    "we use getter and setter to add validation logic around getting and setting a value.\n",
    "'''\n",
    "class car:\n",
    "    def __init__(self,year,make,model,speed):\n",
    "        self.__year = year\n",
    "        self.__make = make\n",
    "        self.__model = model\n",
    "        self.__speed = speed\n",
    "    def set_speed(self,speed):\n",
    "        self.__speed = 0 if speed <0 else speed\n",
    "    def get_speed(self):\n",
    "        return self.__speed\n",
    "c = car(2021,\"toyata\",\"innova\",12)\n",
    "c.set_speed(12345)\n",
    "c.get_speed()\n",
    "              "
   ]
  },
  {
   "cell_type": "code",
   "execution_count": null,
   "id": "bc714acf-5751-48e7-ade0-064afff38737",
   "metadata": {},
   "outputs": [],
   "source": [
    "# what is method overriding in pyhton? write a python code demonstarte method overriding.\n",
    "'''\n",
    "when a method in subclass has the same name, same parameter, or signature and same return type as a method in its superclass\n",
    "then method in subclass is said to override the method in superclass.\n",
    "'''\n",
    "class Parent:\n",
    "    def show(self):\n",
    "        print(\"inside parent\")\n",
    "class Child(Parent):\n",
    "    def show(self):\n",
    "        Parent.show(self)\n",
    "        print(\"inside child\")\n",
    "        \n",
    "        "
   ]
  }
 ],
 "metadata": {
  "kernelspec": {
   "display_name": "Python 3 (ipykernel)",
   "language": "python",
   "name": "python3"
  },
  "language_info": {
   "codemirror_mode": {
    "name": "ipython",
    "version": 3
   },
   "file_extension": ".py",
   "mimetype": "text/x-python",
   "name": "python",
   "nbconvert_exporter": "python",
   "pygments_lexer": "ipython3",
   "version": "3.10.8"
  }
 },
 "nbformat": 4,
 "nbformat_minor": 5
}
