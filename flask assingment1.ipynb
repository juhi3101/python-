{
 "cells": [
  {
   "cell_type": "code",
   "execution_count": null,
   "id": "3030960a-2fa6-4df5-b51e-5d5ed4d52d79",
   "metadata": {},
   "outputs": [],
   "source": [
    "# what is flask framework? what are advantage of flask framework?\n",
    "'''\n",
    "Flask is a web framework that allows developers to build lightweight web applications quickly and easily with Flask Libraries.\n",
    "\n",
    "advantage of flask framework:\n",
    "1. Flask is a lightweight backend framework with minimal dependencies.\n",
    "2. Flask is easy to learn because its simple and intuitive API makes it easy to learn and use for beginners.\n",
    "3. Flask is a flexible Framework because it allows you to customize and extend the framework to suit your needs easily.\n",
    "4. Flask can be used with any database like:- SQL and NoSQL and with any Frontend Technology such as React or Angular.\n",
    "5.Flask is great for small to medium projects that do not require the complexity of a large framework.\n",
    "'''"
   ]
  },
  {
   "cell_type": "code",
   "execution_count": null,
   "id": "f9d4c611-bf1c-410b-834e-fdba3c8b70c9",
   "metadata": {},
   "outputs": [],
   "source": [
    "# create a simple flask application to display \"Hello World\" .attach a screenshot of output in jupyter notebook.\n",
    "'''\n",
    "from flask import Flask\n",
    "app = Flask(__name__)\n",
    "\n",
    "@app.route('/')\n",
    "def hello_world():\n",
    "   return 'Hello World’\n",
    "\n",
    "if __name__ == '__main__':\n",
    "   app.run()\n",
    "'''"
   ]
  },
  {
   "cell_type": "code",
   "execution_count": null,
   "id": "defd22e9-6703-41bf-87fc-d33b78d44754",
   "metadata": {},
   "outputs": [],
   "source": [
    "# what is app routing in flask? why do we use app routes?\n",
    "'''\n",
    "App Routing means mapping the URLs to a specific function that will handle the logic for that URL.\n",
    "Modern web frameworks use more meaningful URLs to help users remember the URLs and make navigation simpler. \n",
    "\n",
    "1.URL Mapping: App routing allows you to define the relationship between URLs and view functions.\n",
    "By using the @app.route() decorator, you can specify which URL patterns should trigger specific functions\n",
    "to generate the response.\n",
    "\n",
    "2.Handling HTTP Methods: In web development, different HTTP methods like GET, POST, PUT, DELETE, etc., are used to perform\n",
    "different actions on resources. With app routing, you can associate a view function with a specific HTTP method, \n",
    "ensuring that the correct function is called depending on the type of request.\n",
    "'''"
   ]
  },
  {
   "cell_type": "code",
   "execution_count": null,
   "id": "01143b24-2a8e-4bf6-b3cd-8d0a9ac8842d",
   "metadata": {},
   "outputs": [],
   "source": [
    "# what function is used in flask for url bulding? write  a python code to demonstrate the working of url funtion.\n",
    "'''\n",
    "In Flask, the function used for URL building is called url_for(). The url_for() function takes the endpoint name of the \n",
    "target view function as its first argument and can accept additional keyword arguments that represent the dynamic parts of the\n",
    "URL pattern. It then returns the URL for the specified endpoint,including any dynamic values if provided.\n",
    "\n",
    "from flask import Flask, url_for\n",
    "\n",
    "app = Flask(__name__)\n",
    "\n",
    "@app.route('/')\n",
    "def index():\n",
    "    return 'Welcome to the homepage!'\n",
    "\n",
    "@app.route('/user/<username>')\n",
    "def show_user_profile(username):\n",
    "    return f'User: {username}'\n",
    "\n",
    "@app.route('/post/<int:post_id>')\n",
    "def show_post(post_id):\n",
    "    return f'Post ID: {post_id}'\n",
    "\n",
    "if __name__ == '__main__':\n",
    "    with app.test_request_context():\n",
    "        print(url_for('index'))  # Output: /\n",
    "        print(url_for('show_user_profile', username='john'))  # Output: /user/john\n",
    "        print(url_for('show_post', post_id=123))  # Output: /post/123\n",
    "\n",
    "'''"
   ]
  }
 ],
 "metadata": {
  "kernelspec": {
   "display_name": "Python 3 (ipykernel)",
   "language": "python",
   "name": "python3"
  },
  "language_info": {
   "codemirror_mode": {
    "name": "ipython",
    "version": 3
   },
   "file_extension": ".py",
   "mimetype": "text/x-python",
   "name": "python",
   "nbconvert_exporter": "python",
   "pygments_lexer": "ipython3",
   "version": "3.10.8"
  }
 },
 "nbformat": 4,
 "nbformat_minor": 5
}
