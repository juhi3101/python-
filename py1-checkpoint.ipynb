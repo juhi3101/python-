{
 "cells": [
  {
   "cell_type": "code",
   "execution_count": 2,
   "id": "9e0c1512",
   "metadata": {},
   "outputs": [
    {
     "name": "stdout",
     "output_type": "stream",
     "text": [
      "[1 2 3 4]\n",
      "<class 'numpy.ndarray'>\n"
     ]
    }
   ],
   "source": [
    "import numpy as np\n",
    "\n",
    "x = np.array([1,2,3,4])\n",
    "print(x)\n",
    "print(type(x))"
   ]
  },
  {
   "cell_type": "code",
   "execution_count": 5,
   "id": "5adab4b3",
   "metadata": {},
   "outputs": [
    {
     "name": "stdout",
     "output_type": "stream",
     "text": [
      "[1, 2, 3, 4]\n",
      "<class 'list'>\n"
     ]
    }
   ],
   "source": [
    "y=[1,2,3,4]\n",
    "print(y)\n",
    "print(type(y))"
   ]
  },
  {
   "cell_type": "code",
   "execution_count": 8,
   "id": "b7e59072",
   "metadata": {},
   "outputs": [
    {
     "name": "stdout",
     "output_type": "stream",
     "text": [
      "7.37 µs ± 136 ns per loop (mean ± std. dev. of 7 runs, 100,000 loops each)\n"
     ]
    }
   ],
   "source": [
    "%timeit [j**4 for j in range(1,9)]"
   ]
  },
  {
   "cell_type": "code",
   "execution_count": 10,
   "id": "c58611b3",
   "metadata": {},
   "outputs": [
    {
     "name": "stdout",
     "output_type": "stream",
     "text": [
      "7.59 µs ± 121 ns per loop (mean ± std. dev. of 7 runs, 100,000 loops each)\n"
     ]
    }
   ],
   "source": [
    "%timeit np.arange(1,9)**4"
   ]
  },
  {
   "cell_type": "code",
   "execution_count": 17,
   "id": "cf9e059b",
   "metadata": {},
   "outputs": [
    {
     "name": "stdout",
     "output_type": "stream",
     "text": [
      "[1 2 3 4]\n"
     ]
    }
   ],
   "source": [
    "import numpy as np\n",
    "a = np.array([1,2,3,4])\n",
    "print(a)"
   ]
  },
  {
   "cell_type": "code",
   "execution_count": 18,
   "id": "b8ad1fcb",
   "metadata": {},
   "outputs": [
    {
     "name": "stdout",
     "output_type": "stream",
     "text": [
      "[31 12 28  4 27 23]\n"
     ]
    }
   ],
   "source": [
    "import numpy as np \n",
    "x = [31,12,28,4,27,23]\n",
    "\n",
    "y=np.array(x)\n",
    "print(y)"
   ]
  },
  {
   "cell_type": "code",
   "execution_count": 19,
   "id": "34481a1d",
   "metadata": {},
   "outputs": [
    {
     "name": "stdout",
     "output_type": "stream",
     "text": [
      "enter:11\n",
      "['11']\n",
      "enter:12\n",
      "['11' '12']\n",
      "enter:13\n",
      "['11' '12' '13']\n",
      "enter:14\n",
      "['11' '12' '13' '14']\n"
     ]
    }
   ],
   "source": [
    "import numpy as np\n",
    "l=[]\n",
    "for i in range(1,5):\n",
    "    int_1 = input(\"enter:\")\n",
    "    l.append(int_1)\n",
    "    print(np.array(l))\n",
    "    \n",
    "    "
   ]
  },
  {
   "cell_type": "code",
   "execution_count": 21,
   "id": "1b8b2fdb",
   "metadata": {},
   "outputs": [
    {
     "name": "stdout",
     "output_type": "stream",
     "text": [
      "[[1 2 3 4]\n",
      " [1 2 3 4]]\n",
      "2\n"
     ]
    }
   ],
   "source": [
    "l = np.array([[1,2,3,4],[1,2,3,4]])\n",
    "print(l)\n",
    "print(l.ndim)"
   ]
  },
  {
   "cell_type": "code",
   "execution_count": 22,
   "id": "05062139",
   "metadata": {},
   "outputs": [
    {
     "name": "stdout",
     "output_type": "stream",
     "text": [
      "[[[1 2 3 4]\n",
      "  [1 2 3 4]\n",
      "  [1 2 3 4]]]\n",
      "3\n"
     ]
    }
   ],
   "source": [
    "l = np.array([[[1,2,3,4],[1,2,3,4],[1,2,3,4]]])\n",
    "print(l)\n",
    "print(l.ndim)"
   ]
  },
  {
   "cell_type": "code",
   "execution_count": 25,
   "id": "bdc4b17a",
   "metadata": {},
   "outputs": [
    {
     "name": "stdout",
     "output_type": "stream",
     "text": [
      "[[[[[[[[[[1 2 3 4]]]]]]]]]]\n"
     ]
    }
   ],
   "source": [
    "l=np.array([1,2,3,4],ndmin=10)\n",
    "print(l)"
   ]
  },
  {
   "cell_type": "code",
   "execution_count": 31,
   "id": "a7cd8423",
   "metadata": {},
   "outputs": [
    {
     "name": "stdout",
     "output_type": "stream",
     "text": [
      "[0. 0. 0. 0.]\n"
     ]
    }
   ],
   "source": [
    "ar_z=np.zeros(4)\n",
    "print(ar_z)\n"
   ]
  },
  {
   "cell_type": "code",
   "execution_count": 32,
   "id": "0ff3ca12",
   "metadata": {},
   "outputs": [
    {
     "name": "stdout",
     "output_type": "stream",
     "text": [
      "[1. 1. 1. 1.]\n"
     ]
    }
   ],
   "source": [
    "ar_o = np.ones(4)\n",
    "print(ar_o)"
   ]
  },
  {
   "cell_type": "code",
   "execution_count": 33,
   "id": "0fa350a5",
   "metadata": {},
   "outputs": [
    {
     "name": "stdout",
     "output_type": "stream",
     "text": [
      "[0 1 2 3]\n"
     ]
    }
   ],
   "source": [
    "ar_r= np.arange(4)\n",
    "print(ar_r)"
   ]
  },
  {
   "cell_type": "code",
   "execution_count": 34,
   "id": "9878dce7",
   "metadata": {},
   "outputs": [
    {
     "name": "stdout",
     "output_type": "stream",
     "text": [
      "[1. 1. 1. 1.]\n"
     ]
    }
   ],
   "source": [
    "ar_e = np.empty(4)\n",
    "print(ar_e)"
   ]
  },
  {
   "cell_type": "code",
   "execution_count": 35,
   "id": "4a1ecc69",
   "metadata": {},
   "outputs": [
    {
     "name": "stdout",
     "output_type": "stream",
     "text": [
      "[[1. 0. 0. 0. 0.]\n",
      " [0. 1. 0. 0. 0.]\n",
      " [0. 0. 1. 0. 0.]]\n"
     ]
    }
   ],
   "source": [
    "arr_d = np.eye(3,5)\n",
    "print(arr_d)"
   ]
  },
  {
   "cell_type": "code",
   "execution_count": 36,
   "id": "ee030023",
   "metadata": {},
   "outputs": [
    {
     "name": "stdout",
     "output_type": "stream",
     "text": [
      "[ 0.   2.5  5.   7.5 10. ]\n"
     ]
    }
   ],
   "source": [
    "arr_in = np.linspace(0,10,num=5)\n",
    "print(arr_in)"
   ]
  },
  {
   "cell_type": "code",
   "execution_count": 37,
   "id": "0a0f331b",
   "metadata": {},
   "outputs": [
    {
     "name": "stdout",
     "output_type": "stream",
     "text": [
      "[0.86232014 0.97573262 0.50531674 0.81488306 0.39181554]\n"
     ]
    }
   ],
   "source": [
    "var1 = np.random.rand(5)\n",
    "print(var1)"
   ]
  },
  {
   "cell_type": "code",
   "execution_count": 38,
   "id": "d4859f2a",
   "metadata": {},
   "outputs": [
    {
     "name": "stdout",
     "output_type": "stream",
     "text": [
      "[13 10 13 16 12]\n"
     ]
    }
   ],
   "source": [
    "var2 = np.random.randint(5,20,5)\n",
    "print(var2)\n"
   ]
  },
  {
   "cell_type": "code",
   "execution_count": 40,
   "id": "79b37ecd",
   "metadata": {},
   "outputs": [
    {
     "name": "stdout",
     "output_type": "stream",
     "text": [
      "[ 0.14089532  0.37464122 -0.56267283  0.65575094]\n"
     ]
    }
   ],
   "source": [
    "var3 =np. random.randn(4)\n",
    "print(var3)"
   ]
  },
  {
   "cell_type": "code",
   "execution_count": 41,
   "id": "99647bc0",
   "metadata": {},
   "outputs": [
    {
     "name": "stdout",
     "output_type": "stream",
     "text": [
      "[0.20781468 0.63719845 0.10352384]\n"
     ]
    }
   ],
   "source": [
    "var4 = np.random.ranf(3)\n",
    "print(var4)\n"
   ]
  },
  {
   "cell_type": "code",
   "execution_count": null,
   "id": "7944b638",
   "metadata": {},
   "outputs": [],
   "source": []
  }
 ],
 "metadata": {
  "kernelspec": {
   "display_name": "Python 3 (ipykernel)",
   "language": "python",
   "name": "python3"
  },
  "language_info": {
   "codemirror_mode": {
    "name": "ipython",
    "version": 3
   },
   "file_extension": ".py",
   "mimetype": "text/x-python",
   "name": "python",
   "nbconvert_exporter": "python",
   "pygments_lexer": "ipython3",
   "version": "3.10.9"
  }
 },
 "nbformat": 4,
 "nbformat_minor": 5
}
