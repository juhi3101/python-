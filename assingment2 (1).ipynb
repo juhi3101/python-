{
 "cells": [
  {
   "cell_type": "code",
   "execution_count": 1,
   "id": "95209e74-2413-446b-b723-3db3f65766ad",
   "metadata": {},
   "outputs": [
    {
     "ename": "SyntaxError",
     "evalue": "invalid syntax (2171740487.py, line 1)",
     "output_type": "error",
     "traceback": [
      "\u001b[0;36m  Cell \u001b[0;32mIn[1], line 1\u001b[0;36m\u001b[0m\n\u001b[0;31m    python use \"#\" for single line comment\u001b[0m\n\u001b[0m           ^\u001b[0m\n\u001b[0;31mSyntaxError\u001b[0m\u001b[0;31m:\u001b[0m invalid syntax\n"
     ]
    }
   ],
   "source": [
    "#1 How do you comment code in python? what are different type of comments?\n",
    "python use \"#\" for single line comment\n",
    "# print(\"hello\")\n",
    "\n",
    "python actually does not support multiline comment , but as python does not execute string which is not assingned variable so we use \n",
    "string written inside triple quotes as\n",
    "''' \n",
    "this is juhi\n",
    "learning python\n",
    "'''\n",
    "\n"
   ]
  },
  {
   "cell_type": "code",
   "execution_count": null,
   "id": "deef21dc-f4a3-4d52-ac84-6c28a49c21d7",
   "metadata": {},
   "outputs": [],
   "source": [
    "#2 What are variables in python? How do you declare and assign value to variables?\n",
    "\n",
    "variable in python is named identifier that store value. it act as a container to hold data during program execution.\n",
    "syntax\n",
    "<variable name> = <value>\n",
    "\n",
    "_my_var = \"juhi\"\n",
    "b = 4"
   ]
  },
  {
   "cell_type": "code",
   "execution_count": 7,
   "id": "aeaf0d33-e983-4eeb-b32a-4984697c7e58",
   "metadata": {},
   "outputs": [
    {
     "name": "stdout",
     "output_type": "stream",
     "text": [
      "<class 'int'>\n",
      "<class 'float'>\n",
      "<class 'str'>\n"
     ]
    }
   ],
   "source": [
    "#3 How do you convert one datatype to another in python?\n",
    "# To convert on datatype to another we use typecasting\n",
    "a = 4\n",
    "print(type(a))\n",
    "\n",
    "b = float(a)\n",
    "print(type(b))\n",
    "\n",
    "c = str(a)\n",
    "print(type(c))"
   ]
  },
  {
   "cell_type": "code",
   "execution_count": null,
   "id": "c6120bdb-1e5b-407e-a3de-65ffbd63637d",
   "metadata": {},
   "outputs": [],
   "source": [
    "#4 How do you write and execute a python script from command line?\n",
    "way to run python script from command line , first you need to open command line and type the word python followed  by the path\n",
    "to your script file like this: python first_script.py Hello world! , then you hit the ENTER button from the keyboard and that's\n",
    "it."
   ]
  },
  {
   "cell_type": "code",
   "execution_count": 12,
   "id": "c7b2c1ba-34c2-4820-a4e0-d7398a1d4df3",
   "metadata": {},
   "outputs": [
    {
     "data": {
      "text/plain": [
       "[2, 3]"
      ]
     },
     "execution_count": 12,
     "metadata": {},
     "output_type": "execute_result"
    }
   ],
   "source": [
    "#5 Given a list my_list = [1,2,3,4,5], write the code to slice the listand obtain the sub-list[2,3].\n",
    "my_list = [1,2,3,4,5]\n",
    "my_list[1:3]"
   ]
  },
  {
   "cell_type": "code",
   "execution_count": null,
   "id": "f96a5fb3-0746-4d39-ba99-7fef57febe86",
   "metadata": {},
   "outputs": [],
   "source": [
    "#6 What is a complex number in mathematics, and how is it represented in python?\n",
    "complex number are number which represent real and imaginary part.\n",
    "z= x+yj\n",
    "z = 3+4j"
   ]
  },
  {
   "cell_type": "code",
   "execution_count": 13,
   "id": "d599526c-24c3-423e-995d-694efc952448",
   "metadata": {},
   "outputs": [
    {
     "name": "stdout",
     "output_type": "stream",
     "text": [
      "25\n",
      "25\n"
     ]
    }
   ],
   "source": [
    "#7 What is the correct way to declare a variable named age and assign the value 25 to it?\n",
    "age = 25\n",
    "print(age)\n",
    "_age = 25\n",
    "print(_age)"
   ]
  },
  {
   "cell_type": "code",
   "execution_count": 14,
   "id": "079e4d08-6cfa-4b5e-8f64-734e60ceadf4",
   "metadata": {},
   "outputs": [
    {
     "name": "stdout",
     "output_type": "stream",
     "text": [
      "9.99\n"
     ]
    },
    {
     "data": {
      "text/plain": [
       "float"
      ]
     },
     "execution_count": 14,
     "metadata": {},
     "output_type": "execute_result"
    }
   ],
   "source": [
    "#8 Declare a variable named price and assign the value 9.99 to it . What datatype does this variable belong to?\n",
    "price = 9.99\n",
    "print(price)\n",
    "# data type float\n",
    "type(price)"
   ]
  },
  {
   "cell_type": "code",
   "execution_count": 15,
   "id": "16fcf14a-8799-44e3-8298-2faf8eae5e0e",
   "metadata": {},
   "outputs": [
    {
     "name": "stdout",
     "output_type": "stream",
     "text": [
      "juhisingh\n"
     ]
    },
    {
     "data": {
      "text/plain": [
       "str"
      ]
     },
     "execution_count": 15,
     "metadata": {},
     "output_type": "execute_result"
    }
   ],
   "source": [
    "#9 Create a variable named name and assign your fullname to it as a string. How would you print the value of this variable?\n",
    "name = \"juhisingh\"\n",
    "print(name)\n",
    "type(name)\n"
   ]
  },
  {
   "cell_type": "code",
   "execution_count": 18,
   "id": "9f548a33-ae45-443e-8311-50caa9f078d8",
   "metadata": {},
   "outputs": [
    {
     "name": "stdout",
     "output_type": "stream",
     "text": [
      "Hello world\n"
     ]
    },
    {
     "data": {
      "text/plain": [
       "' world'"
      ]
     },
     "execution_count": 18,
     "metadata": {},
     "output_type": "execute_result"
    }
   ],
   "source": [
    "#10 Given the string \"Hello World!\", extract the substring \"World\".\n",
    "a = \"Hello world\"\n",
    "print(a)\n",
    "a[5:11]"
   ]
  },
  {
   "cell_type": "code",
   "execution_count": 1,
   "id": "0869fe90-9cb2-43c2-9a85-05b36c1b6ef1",
   "metadata": {},
   "outputs": [
    {
     "name": "stdin",
     "output_type": "stream",
     "text": [
      "enter your age 24\n"
     ]
    },
    {
     "name": "stdout",
     "output_type": "stream",
     "text": [
      "is_student = True\n"
     ]
    }
   ],
   "source": [
    "#11 create a variable named \"is_student\" and assign it a boolean value indicating whether you are currently a student or not.\n",
    "age = int(input(\"enter your age\"))\n",
    "if (age <30):\n",
    "    print(\"is_student = True\")\n",
    "else :\n",
    "    print(\"is_student = False\")\n"
   ]
  }
 ],
 "metadata": {
  "kernelspec": {
   "display_name": "Python 3 (ipykernel)",
   "language": "python",
   "name": "python3"
  },
  "language_info": {
   "codemirror_mode": {
    "name": "ipython",
    "version": 3
   },
   "file_extension": ".py",
   "mimetype": "text/x-python",
   "name": "python",
   "nbconvert_exporter": "python",
   "pygments_lexer": "ipython3",
   "version": "3.10.8"
  }
 },
 "nbformat": 4,
 "nbformat_minor": 5
}
