{
 "cells": [
  {
   "cell_type": "code",
   "execution_count": 1,
   "id": "f7f5d7d8-86a4-4ec7-b581-4cba035d3165",
   "metadata": {},
   "outputs": [
    {
     "name": "stdout",
     "output_type": "stream",
     "text": [
      "1 3 5 7 9 11 13 15 17 19 21 23 25 "
     ]
    }
   ],
   "source": [
    "# which keyword is used to create function? create a function to return a list of odd number in range of 1 to 25.\n",
    "''' def keyword is used to create function'''\n",
    "def odd(num1,num2):\n",
    "    if num1 > num2:\n",
    "        return\n",
    "    if num1&1:\n",
    "        print(num1, end =\" \")\n",
    "        return odd(num1+2,num2)\n",
    "    else:\n",
    "        return odd(num1+1,num2)\n",
    "num1 = 1;num2 = 25\n",
    "odd(num1,num2)\n",
    "    "
   ]
  },
  {
   "cell_type": "code",
   "execution_count": 2,
   "id": "70b77171-fae7-4197-b151-8aabca9d959a",
   "metadata": {},
   "outputs": [
    {
     "name": "stdout",
     "output_type": "stream",
     "text": [
      "hello! this is juhi\n",
      "first == learning\n",
      "last == python\n"
     ]
    }
   ],
   "source": [
    "# why *args and **kwargs is used in some functions? create a function for each *args and **kwargs to demonstrate their use.\n",
    "''' *args used to pass many number of arguments to function.'''\n",
    "''' *kwargs used to pass a keyworded, variable length argument list, you can provide name to variable you pass like it used to pass list'''\n",
    "def myFunc(*args):\n",
    "    for i in args:\n",
    "        print(i)\n",
    "print(\"hello!\" , \"this\" , \"is\" , \"juhi\")\n",
    "\n",
    "def myfunc2(**kwargs):\n",
    "    for key, value in kwargs.items():\n",
    "        print(\"%s == %s\" % (key , value))\n",
    "myfunc2(first = \"learning\", last = \"python\")\n",
    "        "
   ]
  },
  {
   "cell_type": "code",
   "execution_count": 3,
   "id": "15f95c5c-f7b1-469a-ade5-4679154e3f8f",
   "metadata": {},
   "outputs": [
    {
     "name": "stdout",
     "output_type": "stream",
     "text": [
      "apple\n",
      "banana\n",
      "cherry\n"
     ]
    }
   ],
   "source": [
    "#what is an iterator in python? name the method used to initialize iterator object and method used for iteration. use this method \n",
    "# to print first five element of given list[2,4,6,8,10,12,14,16,18,20].\n",
    "'''An iterator is an object that contain countable number of values. iter() and next() used to implement iterator.'''\n",
    "mytuple = (\"apple\", \"banana\", \"cherry\")\n",
    "myit = iter(mytuple)\n",
    "print(next(myit))\n",
    "print(next(myit))\n",
    "print(next(myit))"
   ]
  },
  {
   "cell_type": "code",
   "execution_count": 4,
   "id": "f27fd6e1-f464-4fb1-b1a9-b8c1d3e3b978",
   "metadata": {},
   "outputs": [
    {
     "name": "stdout",
     "output_type": "stream",
     "text": [
      "0\n",
      "1\n",
      "2\n"
     ]
    }
   ],
   "source": [
    "# what is generator function in python? why yield keyword is used?give an example of generator function.\n",
    "'''generator function return a iterator that produces a sequence of values when iterated over.useful when we want to generate \n",
    "last sequence of values, but we don't want to store in memory at once . yield keyword used to produce value from generator.'''\n",
    "\n",
    "def my_generator(n):\n",
    "    value = 0\n",
    "    while value < n:\n",
    "        yield value\n",
    "        value = value+1\n",
    "for value in my_generator(3):\n",
    "    print(value)\n"
   ]
  },
  {
   "cell_type": "code",
   "execution_count": 5,
   "id": "b5e58dde-6ab8-421e-803c-05edb996c4be",
   "metadata": {},
   "outputs": [
    {
     "ename": "TypeError",
     "evalue": "'type' object is not subscriptable",
     "output_type": "error",
     "traceback": [
      "\u001b[0;31m---------------------------------------------------------------------------\u001b[0m",
      "\u001b[0;31mTypeError\u001b[0m                                 Traceback (most recent call last)",
      "Cell \u001b[0;32mIn[5], line 19\u001b[0m\n\u001b[1;32m     17\u001b[0m prime \u001b[38;5;241m=\u001b[39m genPrime()\n\u001b[1;32m     18\u001b[0m \u001b[38;5;28;01mfor\u001b[39;00m i \u001b[38;5;129;01min\u001b[39;00m \u001b[38;5;28mrange\u001b[39m(\u001b[38;5;241m1000\u001b[39m):\n\u001b[0;32m---> 19\u001b[0m     \u001b[38;5;28;01mfor\u001b[39;00m j \u001b[38;5;129;01min\u001b[39;00m \u001b[38;5;28;43mrange\u001b[39;49m\u001b[43m[\u001b[49m\u001b[38;5;241;43m1\u001b[39;49m\u001b[43m:\u001b[49m\u001b[38;5;241;43m20\u001b[39;49m\u001b[43m]\u001b[49m:\n\u001b[1;32m     20\u001b[0m         \u001b[38;5;28mprint\u001b[39m(\u001b[38;5;28mnext\u001b[39m(prime))\n",
      "\u001b[0;31mTypeError\u001b[0m: 'type' object is not subscriptable"
     ]
    }
   ],
   "source": [
    "#write a generotor function for prime number less than 1000. use the next() method to print the first 20 prime numbers.\n",
    "def genPrime():\n",
    "    num = 1\n",
    "    prime = False\n",
    "    while True:\n",
    "        for i in range(2, num+1):\n",
    "            if num % i == 0:\n",
    "                prime = False\n",
    "                if i == num:\n",
    "                    prime = True\n",
    "                break\n",
    "        if prime:\n",
    "            yield num\n",
    "            num = num+1\n",
    "        else:\n",
    "            num = num+1\n",
    "prime = genPrime()\n",
    "for i in range(1000):\n",
    "    for j in range[1:20]:\n",
    "        print(next(prime))\n",
    "                \n"
   ]
  },
  {
   "cell_type": "code",
   "execution_count": 6,
   "id": "aa2e9388-bed4-43f9-9d9a-6ea702c25be3",
   "metadata": {},
   "outputs": [
    {
     "name": "stdout",
     "output_type": "stream",
     "text": [
      "0 1 1 2 3 5 8 13 21 34 "
     ]
    }
   ],
   "source": [
    "# write a python program to print the first 10 fibonnaci number using while loop.\n",
    "num = 10\n",
    "n1 = 0\n",
    "n2 = 1\n",
    "sum = 0\n",
    "i = 0\n",
    "while(i < num):\n",
    "    print(n1,end = ' ')\n",
    "    sum = sum + n1\n",
    "    next = n1 + n2\n",
    "    n1 = n2\n",
    "    n2 = next\n",
    "    i = i+1\n",
    "\n"
   ]
  },
  {
   "cell_type": "code",
   "execution_count": null,
   "id": "8df927d2-2769-4091-a344-42bcfb2f78b9",
   "metadata": {},
   "outputs": [],
   "source": [
    "# write a list comprehension to iterate through given string:\"pwskills\".\n",
    "list = []\n",
    "for i in 'pwskills':\n",
    "    list.append(i)\n",
    "print(list)"
   ]
  },
  {
   "cell_type": "code",
   "execution_count": null,
   "id": "636c101f-c614-4ce6-9a86-4072a9408108",
   "metadata": {},
   "outputs": [],
   "source": [
    "# write a python program to check weather a given number is palindrome or not using a while loop.\n",
    "num = int(input(\"enter a number:\"))\n",
    "reverse = 0\n",
    "number = num\n",
    "while(num != 0):\n",
    "    remainder = num % 10\n",
    "    reverse = reverse * 10 + remainder\n",
    "    num = int(num / 10)\n",
    "if(number == reverse):\n",
    "    print(number, \"is palindrome\")\n",
    "else:\n",
    "    print(number, \"not palindrome\")\n"
   ]
  },
  {
   "cell_type": "code",
   "execution_count": null,
   "id": "2e49634b-6053-47c8-add6-20bbe6978a4b",
   "metadata": {},
   "outputs": [],
   "source": [
    "#write a code to print odd numbers from 1 to 100 using list comprehension.\n",
    "odd_list = [element for element in range(1,101) if element % 2 == 1]\n",
    "print(odd_list)"
   ]
  }
 ],
 "metadata": {
  "kernelspec": {
   "display_name": "Python 3 (ipykernel)",
   "language": "python",
   "name": "python3"
  },
  "language_info": {
   "codemirror_mode": {
    "name": "ipython",
    "version": 3
   },
   "file_extension": ".py",
   "mimetype": "text/x-python",
   "name": "python",
   "nbconvert_exporter": "python",
   "pygments_lexer": "ipython3",
   "version": "3.10.8"
  }
 },
 "nbformat": 4,
 "nbformat_minor": 5
}
