{
 "cells": [
  {
   "cell_type": "code",
   "execution_count": null,
   "id": "b023b5fb-7977-4873-bf27-fbadc183ab74",
   "metadata": {},
   "outputs": [],
   "source": [
    "# what is database ? differetiate between SQL and NOSQL databases.\n",
    "'''\n",
    "A database is a organized collection of structured information , or data , typically stored electronically in a computer system.\n",
    "A database is usually controlled by database management system.\n",
    "1. SQL called relational database management system and NOSQL called non- relational or distributed database management system.\n",
    "2. SQL has fixed or static schema and NOSQL has dynamic  schema.\n",
    "3. SQL suited not suited for hierarichal data storage and NOSQL suited for hieraricahl data storage.\n",
    "4. SQL example MySQL , MS-SQL and oracle while NOSQL emaple MongoDB, HBase, Neo4j and cassandra.\n",
    "'''"
   ]
  },
  {
   "cell_type": "code",
   "execution_count": null,
   "id": "0629ba03-ad2f-4638-84fd-f979a39e38c0",
   "metadata": {},
   "outputs": [],
   "source": [
    "# what is DDL? explain why CREATE , DROP , ALTER and TRUNCATE are used with an example.\n",
    "'''\n",
    "data definition language actually consist of SQL command that can be used to define database schema. it generally deals with \n",
    "description of database schema and is used to create and modify the structure of database object in database. DDL is a set of SQL\n",
    "command used to create , modify and delete database.\n",
    "1. CREATE - used to create database and its object like table, index, function, views and triggers.\n",
    "example CREATE table test_table;\n",
    "2. DROP - used to delete object from database.\n",
    "drop test_table;\n",
    "3. ALTER - used to alter structure of database.\n",
    "ALTER TABLE test_table\n",
    "ADD Email varchar(255)\n",
    "4. TRUNCATE - used to remove all records from a table, including all spaces allocated for the records are removed.\n",
    "TRUNCATE TABLE test_tabel;\n",
    "'''"
   ]
  },
  {
   "cell_type": "code",
   "execution_count": 1,
   "id": "8b3ce5ce-18e7-47fa-8c21-5d480baa8aa5",
   "metadata": {},
   "outputs": [],
   "source": [
    "# what is DML? explain INSERT, UPDATE and DELETE with an example.\n",
    "'''\n",
    "Data Manipualtion Language - SQL command used for manipulation of data in database.\n",
    "INSERT - used to insert data in database\n",
    "INSERT into test_table values(c1 INT, c2 VARCHAR(50))\n",
    "UPDATE - used to update data into database\n",
    "UPDATE test_table\n",
    "SET name = \"juhi\"\n",
    "where id = 2\n",
    "DELETE - used to delete element from table \n",
    "DELETE FROM test_table\n",
    "WHERE id = 2\n",
    "'''"
   ]
  },
  {
   "cell_type": "code",
   "execution_count": null,
   "id": "b509ad69-67f9-42af-80df-9558e2069e2a",
   "metadata": {},
   "outputs": [],
   "source": [
    "# what is DQL ? expalin SELECT with an example.\n",
    "'''\n",
    "Data Query Language - used for performing queries on data within schema object.  the purpose of DQL command is to get \n",
    "some schema relation based on query passed to it.\n",
    "\n",
    "SELECT - used to retrieve data from database.\n",
    "SELECT * FROM test_table\n",
    "'''"
   ]
  },
  {
   "cell_type": "code",
   "execution_count": null,
   "id": "cefa56fe-dc7f-4b83-b7b8-5c36259449f0",
   "metadata": {},
   "outputs": [],
   "source": [
    "# explain primary key and foreign key.\n",
    "'''\n",
    "primary key is unique and not null , it generally focus on uniqueness of table.it assure value in specific column is unique.\n",
    "foreign key is generally used to build relationship between two table.\n",
    "'''"
   ]
  },
  {
   "cell_type": "code",
   "execution_count": null,
   "id": "5f94c3ad-d3af-4574-a3ee-43898f6e6cd1",
   "metadata": {},
   "outputs": [],
   "source": [
    "# write a python code to connet mysql to python. explain cursor() and execute() command.\n",
    "'''\n",
    "import mySQL.connector\n",
    "mydb = mySQL.connector.connect(\n",
    "hosts = \"localhost\",\n",
    "user = \"abc\",\n",
    "password = \"password\"\n",
    ")\n",
    "print(mydb)\n",
    "myCursor = mydb.cursor()\n",
    "myCursor.execute(\"SHOW DATABASES\")\n",
    "for x in myCursor:\n",
    "print(x)\n",
    "\n",
    "\n",
    "cursor() - it is used to point database and its object. it is an object used to make connection for executing SQL queries.\n",
    "execute () it is method used to execute mycursor element or data stored inside cursor.\n",
    "'''\n"
   ]
  },
  {
   "cell_type": "code",
   "execution_count": null,
   "id": "93c46ffd-49f1-48f5-90bb-27b77049d744",
   "metadata": {},
   "outputs": [],
   "source": [
    "# Give the order of execution of SQL clauses in an sql queries.\n",
    "'''\n",
    "order of execution defines oreder in which clauses of query are evaluated.\n",
    "1.from \n",
    "2. where\n",
    "3. group by\n",
    "4. having\n",
    "5. select\n",
    "6. order by\n",
    "7.limit\n",
    "'''"
   ]
  }
 ],
 "metadata": {
  "kernelspec": {
   "display_name": "Python 3 (ipykernel)",
   "language": "python",
   "name": "python3"
  },
  "language_info": {
   "codemirror_mode": {
    "name": "ipython",
    "version": 3
   },
   "file_extension": ".py",
   "mimetype": "text/x-python",
   "name": "python",
   "nbconvert_exporter": "python",
   "pygments_lexer": "ipython3",
   "version": "3.10.8"
  }
 },
 "nbformat": 4,
 "nbformat_minor": 5
}
