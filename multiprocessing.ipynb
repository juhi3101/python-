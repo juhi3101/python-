{
 "cells": [
  {
   "cell_type": "code",
   "execution_count": null,
   "id": "bf7aa050-bcb9-4be5-8d7e-919d86696454",
   "metadata": {},
   "outputs": [],
   "source": [
    "# what is multiprocessing in python? why is it useful?\n",
    "'''\n",
    "multiprocessing is ability of a system to support more than one processor at the same time.\n",
    "application in mutiprogramming system are broken into smaller routine that run independently.\n",
    "os alocate these threads to processors improving performance of system.\n",
    "consider a computer system with a single processor. if it is assigned saveral processes at same time, it will have to interupt\n",
    "each task and switch  breifly to another to keep all processess going.\n",
    "this dituation id just like chef working in kitchen alone he has to do saveral task like baking, stirring, kneading doughetc.\n",
    "the more taks you do at once, the more difficult it gets to track them all, and keeping the timing right become more of challenge.\n",
    "this is where the concept of multiprocessing arises.\n",
    "'''"
   ]
  },
  {
   "cell_type": "code",
   "execution_count": null,
   "id": "beb2ccb4-b2d5-4f83-8735-25e70871b71f",
   "metadata": {},
   "outputs": [],
   "source": [
    "# what are difference between multiprocessing and multithreading.\n",
    "'''\n",
    "1. in multiprocessing cpu are added for increasing computer power and while in multithreading many threads are created of\n",
    "of a single process for increasing computer power.\n",
    "\n",
    "2. in multiprocessing many processes are executed simultaneously, and while in mutlithreading many threads of process are\n",
    "executed simultaneously.\n",
    "\n",
    "3. multiprocrssing are classified into asymmetric and symmetric and while in multithrarding is not classified into any categories\n",
    "\n",
    "4. multiprocessing is time consuming process and process creation are economical.\n",
    "'''"
   ]
  },
  {
   "cell_type": "code",
   "execution_count": 2,
   "id": "8b1bbb67-3385-4750-a3cd-709c6e91ecf9",
   "metadata": {},
   "outputs": [
    {
     "name": "stdout",
     "output_type": "stream",
     "text": [
      "square: 100\n",
      "cube: 1000\n"
     ]
    }
   ],
   "source": [
    "# write a python code to cerate a process using the multiprocessing module.\n",
    "import multiprocessing\n",
    "def print_cube(num):\n",
    "    print(\"cube: {}\" .format(num*num*num))\n",
    "def print_square(num):\n",
    "    print(\"square: {}\" .format(num*num))\n",
    "if __name__ == \"__main__\":\n",
    "    p1 = multiprocessing.Process(target = print_square, args=(10, ))\n",
    "    p2 = multiprocessing.Process(target = print_cube, args=(10, ))\n",
    "    p1.start()\n",
    "    p2.start()\n",
    "    p1.join()\n",
    "    p2.join()"
   ]
  },
  {
   "cell_type": "code",
   "execution_count": null,
   "id": "b7c63b2d-b66a-42bf-aaaa-164b1b8f35a7",
   "metadata": {},
   "outputs": [],
   "source": [
    "# what is multiprocessing pool in python? why is it use?\n",
    "'''\n",
    "multiprocessing pool class allows you to create and manage process pools in python. a pool is responsible for fixed number of\n",
    "processes. it controls when they are created, such as when they are needed. it also control what they should do when they are not being\n",
    "used, such as making them wait\n",
    "\n",
    "'''"
   ]
  }
 ],
 "metadata": {
  "kernelspec": {
   "display_name": "Python 3 (ipykernel)",
   "language": "python",
   "name": "python3"
  },
  "language_info": {
   "codemirror_mode": {
    "name": "ipython",
    "version": 3
   },
   "file_extension": ".py",
   "mimetype": "text/x-python",
   "name": "python",
   "nbconvert_exporter": "python",
   "pygments_lexer": "ipython3",
   "version": "3.10.8"
  }
 },
 "nbformat": 4,
 "nbformat_minor": 5
}
