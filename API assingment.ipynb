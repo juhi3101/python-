{
 "cells": [
  {
   "cell_type": "code",
   "execution_count": null,
   "id": "cdc2e790-82ee-4cc8-a8c9-177724cb1856",
   "metadata": {},
   "outputs": [],
   "source": [
    "# what is an API? give an example where API used in real life.\n",
    "'''\n",
    "API is an abbreviation for Application Programming Interface which is a collection of communication protocols and subroutines\n",
    "used by various programs to communicate between them.\n",
    "A programmer can make use of various API tools to make their program easier and simpler.\n",
    "real life example of API-\n",
    "1.log in using xyz account\n",
    "2.weather snippets\n",
    "3.pay with paypal\n",
    "4.google maps\n",
    "5.travel booking\n",
    "'''"
   ]
  },
  {
   "cell_type": "code",
   "execution_count": null,
   "id": "16119aa0-3230-4258-be9b-0109bd39b946",
   "metadata": {},
   "outputs": [],
   "source": [
    "# Give an advantage and disadvantage of using API.\n",
    "'''\n",
    "Advantage API:\n",
    "\n",
    "1.Increased Interoperability: API solutions enable different software systems to communicate with each other,\n",
    "regardless of their programming language or platform\n",
    "\n",
    "2.Improved Efficiency: API driven infrastructures enable developers to reuse code and functionality from existing software \n",
    "systems,saving time and reducing the amount of code that needs to be written from scratch.\n",
    "\n",
    "3.Increased Flexibility: APIs provide developers with greater flexibility,\n",
    "enabling them to choose the best programming languages and frameworks for their needs.\n",
    "\n",
    "Disadvantage API:\n",
    "\n",
    "1.Security Concerns: API infrastructures can be vulnerable to security breaches.\n",
    "\n",
    "2.Complexity: APIs can be complex, requiring a significant amount of development effort to implement and maintain.\n",
    "\n",
    "3.Compatibility Issues: APIs can have compatibility issues between different versions of the same software system or between \n",
    "different systems,which can lead to errors and system failures.\n",
    "'''"
   ]
  },
  {
   "cell_type": "code",
   "execution_count": null,
   "id": "f6c4f8d7-c629-4c4d-9bcd-bd0518d06804",
   "metadata": {},
   "outputs": [],
   "source": [
    "# what is an web API? difference between API and web API.\n",
    "'''\n",
    "Web API is an API as the name suggests, it can be accessed over the web using the HTTP protocol.\n",
    "It is a framework that helps you to create and develop HTTP based RESTFUL services.\n",
    "For example, Facebook (a social networking web application), Flickr (a photo-sharing web application), \n",
    "and Wikipedia are majorly used example of a web application.\n",
    "\n",
    "diffrence between API and web API:\n",
    "API can refer to any interface for communication between software componenet, system or application irrespective of plateform \n",
    "or medium. and web API specially designed for web based application involving data exchange over internet using standard web\n",
    "technologies like HTTP.\n",
    "'''\n"
   ]
  },
  {
   "cell_type": "code",
   "execution_count": null,
   "id": "fdb2aee2-6a02-4ff9-b3c8-2e6c39e2c7ce",
   "metadata": {},
   "outputs": [],
   "source": [
    "# explain REST and SOAP architecture . mention shortcoming of SOAP .\n",
    "'''\n",
    "\n",
    "A REST API is an application programming interface (API) that uses a representational state transfer (REST)architectural style.\n",
    "The REST architectural style uses HTTP to request access and use data. This allows for interaction with RESTful web services.\n",
    "\n",
    "SOAP is a protocol for the exchange of information in a distributed environment.\n",
    "SOAP messages are encoded as XML documents and can be exchanged using various underlying protocols.\n",
    "\n",
    "shortcoming of soap:\n",
    "1.API Calls are not Cached\n",
    "An API call is a process of sending a request when an API has been set up with the necessary endpoints.\n",
    "\n",
    "2.Extremely Complicated\n",
    "SOAP is substantially more sophisticated than REST. It is also less adaptable. \n",
    "\n",
    "3.No Choice of Data Formats\n",
    "SOAP's support for data formats is likewise severely constrained. HTML, JSON, YAML, XML, and more formats are supported by REST.\n",
    "SOAP, on the other hand, only supports XML.\n",
    "\n",
    "4.Requires More Bandwidth\n",
    "SOAP is often slower than REST, and it also consumes more bandwidth due to its complexity.\n",
    "'''"
   ]
  },
  {
   "cell_type": "code",
   "execution_count": null,
   "id": "5253bccb-3926-47d1-91a2-a1d3ed56f58a",
   "metadata": {},
   "outputs": [],
   "source": [
    "# difference between REST and SOAP architecture.\n",
    "'''\n",
    "1.SOAP is simple object access protocal and REST is representational state transfer.\n",
    "\n",
    "2.SOAP os heavier and needs more bandwidth and REST is lightweight and needs less bandwidth.\n",
    "\n",
    "3.soap defines its own security and rest inherit security from underlying transport.\n",
    "\n",
    "4.SOAP call cannot be catched and REST call cannot be catched.\n",
    "\n",
    "5.SOAP permit XML based data format and REST permit different data formats such as HTML, XML, JSON.\n",
    "\n",
    "'''"
   ]
  }
 ],
 "metadata": {
  "kernelspec": {
   "display_name": "Python 3 (ipykernel)",
   "language": "python",
   "name": "python3"
  },
  "language_info": {
   "codemirror_mode": {
    "name": "ipython",
    "version": 3
   },
   "file_extension": ".py",
   "mimetype": "text/x-python",
   "name": "python",
   "nbconvert_exporter": "python",
   "pygments_lexer": "ipython3",
   "version": "3.10.8"
  }
 },
 "nbformat": 4,
 "nbformat_minor": 5
}
