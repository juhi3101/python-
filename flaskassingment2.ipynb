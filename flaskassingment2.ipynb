{
 "cells": [
  {
   "cell_type": "code",
   "execution_count": null,
   "id": "226cb43e-0d40-4424-92a9-e63548df58fb",
   "metadata": {},
   "outputs": [],
   "source": [
    "# Explain get and post method.\n",
    "'''\n",
    "The GET method is used to request data from a specified resource.\n",
    "When a client sends a GET request to a server, it is asking the server to retrieve and return a representation of the resource\n",
    "identified by the URL (Uniform Resource Locator) in the request.in get method  data enclosed in url.\n",
    "\n",
    "The POST method is used to submit data to be processed to a specified resource.\n",
    "When a client sends a POST request to a server, it is asking the server to accept the \n",
    "data enclosed in the request and process it accordingly.in post method data enclosed in messsage body.\n",
    "'''"
   ]
  },
  {
   "cell_type": "code",
   "execution_count": null,
   "id": "0ac47389-e9f5-4153-bb6c-9829ce6be59f",
   "metadata": {},
   "outputs": [],
   "source": [
    "# why requet used in python?\n",
    "'''\n",
    "In Python Flask, the request object is a critical component that allows you to access and handle incoming HTTP requests\n",
    "made by clients to your Flask application. It provides easy access to various parts of an HTTP request, including form data,\n",
    "query parameters, request headers, and more.\n",
    "'''"
   ]
  },
  {
   "cell_type": "code",
   "execution_count": null,
   "id": "89d93858-a70e-4091-8fa9-7bd8c79ffc4d",
   "metadata": {},
   "outputs": [],
   "source": [
    "# why is redirect() used in flask?\n",
    "'''\n",
    "in Flask, the redirect() function is used to perform URL redirection, which means sending a client  to a different URL \n",
    "than the one originally requested.\n",
    "\n",
    "1.After Form Submission: When a user submits a form (e.g., login form, registration form),\n",
    "you may want to process the form data and then redirect the user to a different page, such as a dashboard or a success page.\n",
    "This prevents the user from resubmitting the form accidentally by refreshing the page.\n",
    "\n",
    "2.Changing URLs: If your application's URL structure changes, or you want to create more user-friendly URLs,\n",
    "you can use redirect() to send users from the old URLs to the new ones transparently.\n",
    "'''"
   ]
  },
  {
   "cell_type": "code",
   "execution_count": null,
   "id": "ca46ee3f-4b38-4b6b-845b-4453b6d2a33f",
   "metadata": {},
   "outputs": [],
   "source": [
    "# what are template in flask? why is render_tamplate()function used.\n",
    "'''\n",
    "\n",
    "In Flask, templates are files that contain HTML and serve as a wayto separate the presentation layer (HTML) from the business \n",
    "logic and data manipulation.Templates allow you to create dynamic web pages that can display data from your Python code.\n",
    "'''\n"
   ]
  }
 ],
 "metadata": {
  "kernelspec": {
   "display_name": "Python 3 (ipykernel)",
   "language": "python",
   "name": "python3"
  },
  "language_info": {
   "codemirror_mode": {
    "name": "ipython",
    "version": 3
   },
   "file_extension": ".py",
   "mimetype": "text/x-python",
   "name": "python",
   "nbconvert_exporter": "python",
   "pygments_lexer": "ipython3",
   "version": "3.10.8"
  }
 },
 "nbformat": 4,
 "nbformat_minor": 5
}
